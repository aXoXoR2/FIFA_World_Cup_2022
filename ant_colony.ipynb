{
 "cells": [
  {
   "cell_type": "code",
   "execution_count": 1,
   "metadata": {},
   "outputs": [],
   "source": [
    "from algorithms.ant_colony import AntColony, PlayerNode\n",
    "from team import Team\n",
    "from constants import ZONES, FIELD\n",
    "import json\n",
    "\n",
    "\n",
    "team_to_optimize = 'netherlands'\n",
    "official_team = Team(team_to_optimize, FIELD.field)\n",
    "oponent_team = Team('senegal', FIELD.field)"
   ]
  },
  {
   "cell_type": "code",
   "execution_count": 2,
   "metadata": {},
   "outputs": [],
   "source": [
    "# Load data.json for netherlands\n",
    "with open('data.json') as json_file:\n",
    "    data = json.load(json_file)\n",
    "    team_dic = data[team_to_optimize]\n",
    "\n",
    "\n",
    "# Create PlayerNode for each player\n",
    "nodes = []\n",
    "fixed_goalkeeper = ''\n",
    "official_players = [player.name for player in official_team.players]\n",
    "for x in official_team.players:\n",
    "    if x.role == 'G':\n",
    "        fixed_goalkeeper = x.name\n",
    "        break\n",
    "\n",
    "for player_name in team_dic:\n",
    "    if team_dic[player_name]['position'] == 'G':\n",
    "        continue\n",
    "    is_in_official_team = player_name in official_players\n",
    "    player_dic = {player_name: team_dic[player_name]}\n",
    "    nodes.append(PlayerNode(player_name, player_dic, is_in_official_team, initial_pheromone=1, is_start=False))"
   ]
  },
  {
   "cell_type": "code",
   "execution_count": 3,
   "metadata": {},
   "outputs": [],
   "source": [
    "# Connect all nodes\n",
    "for node in nodes:\n",
    "    for other_node in nodes:\n",
    "        if node != other_node:\n",
    "            node.adjacent_nodes.append(other_node)\n",
    "\n"
   ]
  },
  {
   "cell_type": "code",
   "execution_count": 4,
   "metadata": {},
   "outputs": [],
   "source": [
    "ant_colony = AntColony(team_to_optimize, fixed_goalkeeper, nodes, target_to_optimize=0, target_oponent=oponent_team, initial_pheromone=1, evaporation_rate=0.5)\n",
    "\n",
    "\n"
   ]
  },
  {
   "cell_type": "code",
   "execution_count": 5,
   "metadata": {},
   "outputs": [
    {
     "name": "stdout",
     "output_type": "stream",
     "text": [
      "Start Iteration 0\n",
      "Ant finished\n",
      "Ant finished\n",
      "Ant finished\n"
     ]
    },
    {
     "ename": "KeyboardInterrupt",
     "evalue": "",
     "output_type": "error",
     "traceback": [
      "\u001b[0;31m---------------------------------------------------------------------------\u001b[0m",
      "\u001b[0;31mKeyboardInterrupt\u001b[0m                         Traceback (most recent call last)",
      "Cell \u001b[0;32mIn [5], line 1\u001b[0m\n\u001b[0;32m----> 1\u001b[0m result \u001b[39m=\u001b[39m ant_colony\u001b[39m.\u001b[39;49mrun(\u001b[39m50\u001b[39;49m)\n",
      "File \u001b[0;32m~/Documents/GitHub/FIFA_World_Cup_2022/algorithms/ant_colony.py:54\u001b[0m, in \u001b[0;36mAntColony.run\u001b[0;34m(self, iterations)\u001b[0m\n\u001b[1;32m     52\u001b[0m solutions_from_ants \u001b[39m=\u001b[39m \u001b[39mself\u001b[39m\u001b[39m.\u001b[39m__run_ants()\n\u001b[1;32m     53\u001b[0m \u001b[39m# A result is the mean of goals difference of the games simulated\u001b[39;00m\n\u001b[0;32m---> 54\u001b[0m results \u001b[39m=\u001b[39m [\u001b[39mself\u001b[39;49m\u001b[39m.\u001b[39;49m__simulate_solution(solution[\u001b[39m0\u001b[39;49m]) \u001b[39mfor\u001b[39;49;00m solution \u001b[39min\u001b[39;49;00m solutions_from_ants]\n\u001b[1;32m     55\u001b[0m \u001b[39mself\u001b[39m\u001b[39m.\u001b[39m__evaporate_pheromone()\n\u001b[1;32m     57\u001b[0m \u001b[39mfor\u001b[39;00m i \u001b[39min\u001b[39;00m \u001b[39mrange\u001b[39m(\u001b[39mlen\u001b[39m(results)):\n",
      "File \u001b[0;32m~/Documents/GitHub/FIFA_World_Cup_2022/algorithms/ant_colony.py:54\u001b[0m, in \u001b[0;36m<listcomp>\u001b[0;34m(.0)\u001b[0m\n\u001b[1;32m     52\u001b[0m solutions_from_ants \u001b[39m=\u001b[39m \u001b[39mself\u001b[39m\u001b[39m.\u001b[39m__run_ants()\n\u001b[1;32m     53\u001b[0m \u001b[39m# A result is the mean of goals difference of the games simulated\u001b[39;00m\n\u001b[0;32m---> 54\u001b[0m results \u001b[39m=\u001b[39m [\u001b[39mself\u001b[39;49m\u001b[39m.\u001b[39;49m__simulate_solution(solution[\u001b[39m0\u001b[39;49m]) \u001b[39mfor\u001b[39;00m solution \u001b[39min\u001b[39;00m solutions_from_ants]\n\u001b[1;32m     55\u001b[0m \u001b[39mself\u001b[39m\u001b[39m.\u001b[39m__evaporate_pheromone()\n\u001b[1;32m     57\u001b[0m \u001b[39mfor\u001b[39;00m i \u001b[39min\u001b[39;00m \u001b[39mrange\u001b[39m(\u001b[39mlen\u001b[39m(results)):\n",
      "File \u001b[0;32m~/Documents/GitHub/FIFA_World_Cup_2022/algorithms/ant_colony.py:163\u001b[0m, in \u001b[0;36mAntColony.__simulate_solution\u001b[0;34m(self, solution)\u001b[0m\n\u001b[1;32m    159\u001b[0m \u001b[39m# for x in lineup:\u001b[39;00m\n\u001b[1;32m    160\u001b[0m \u001b[39m#     print('lineup', x, len(lineup[x]))\u001b[39;00m\n\u001b[1;32m    161\u001b[0m new_team \u001b[39m=\u001b[39m Team(\u001b[39mself\u001b[39m\u001b[39m.\u001b[39mteam_name, FIELD\u001b[39m.\u001b[39mfield, lineup)\n\u001b[0;32m--> 163\u001b[0m result \u001b[39m=\u001b[39m \u001b[39mself\u001b[39;49m\u001b[39m.\u001b[39;49m__run_matches(new_team, \u001b[39mself\u001b[39;49m\u001b[39m.\u001b[39;49mtarget_oponent)\n\u001b[1;32m    164\u001b[0m \u001b[39mreturn\u001b[39;00m result\n",
      "File \u001b[0;32m~/Documents/GitHub/FIFA_World_Cup_2022/algorithms/ant_colony.py:184\u001b[0m, in \u001b[0;36mAntColony.__run_matches\u001b[0;34m(self, new_team, oponent_team, iterations)\u001b[0m\n\u001b[1;32m    181\u001b[0m             results[x\u001b[39m.\u001b[39mteam_name] \u001b[39m+\u001b[39m\u001b[39m=\u001b[39m \u001b[39m1\u001b[39m\n\u001b[1;32m    183\u001b[0m \u001b[39mfor\u001b[39;00m _ \u001b[39min\u001b[39;00m \u001b[39mrange\u001b[39m(iterations):\n\u001b[0;32m--> 184\u001b[0m     function_x()\n\u001b[1;32m    186\u001b[0m \u001b[39m# df = df.append({'Team1': new_team.team_name, 'Team2': oponent_team.team_name, 'Wins1': results[new_team.team_name], 'Wins2': results[oponent_team.team_name]}, ignore_index=True)\u001b[39;00m\n\u001b[1;32m    187\u001b[0m \u001b[39m# print(df)\u001b[39;00m\n\u001b[1;32m    188\u001b[0m \u001b[39mprint\u001b[39m(\u001b[39m'\u001b[39m\u001b[39mfinished microsimulation\u001b[39m\u001b[39m'\u001b[39m)\n",
      "File \u001b[0;32m~/Documents/GitHub/FIFA_World_Cup_2022/algorithms/ant_colony.py:177\u001b[0m, in \u001b[0;36mAntColony.__run_matches.<locals>.function_x\u001b[0;34m()\u001b[0m\n\u001b[1;32m    175\u001b[0m \u001b[39mdef\u001b[39;00m \u001b[39mfunction_x\u001b[39m():\n\u001b[1;32m    176\u001b[0m     game \u001b[39m=\u001b[39m Football(new_team, oponent_team, FIELD, \u001b[39m90\u001b[39m)\n\u001b[0;32m--> 177\u001b[0m     x \u001b[39m=\u001b[39m game\u001b[39m.\u001b[39;49mplay()\n\u001b[1;32m    178\u001b[0m     \u001b[39mif\u001b[39;00m x \u001b[39mis\u001b[39;00m \u001b[39mnot\u001b[39;00m \u001b[39mNone\u001b[39;00m:\n\u001b[1;32m    179\u001b[0m         \u001b[39mif\u001b[39;00m \u001b[39mtype\u001b[39m(x) \u001b[39mis\u001b[39;00m \u001b[39mnot\u001b[39;00m \u001b[39mtuple\u001b[39m:\n",
      "File \u001b[0;32m~/Documents/GitHub/FIFA_World_Cup_2022/game.py:50\u001b[0m, in \u001b[0;36mFootball.play\u001b[0;34m(self)\u001b[0m\n\u001b[1;32m     48\u001b[0m     actions_defenses\u001b[39m=\u001b[39m \u001b[39mself\u001b[39m\u001b[39m.\u001b[39mmove_player_in_team_without_ballposicion(player_with_ballposition,\u001b[39mself\u001b[39m\u001b[39m.\u001b[39mteam1)\n\u001b[1;32m     49\u001b[0m variables ,problem \u001b[39m=\u001b[39mfootball\u001b[39m.\u001b[39mfootball_model(team_with_ball_possession,player_with_ballposition)\n\u001b[0;32m---> 50\u001b[0m sol \u001b[39m=\u001b[39m breadth_first_tree_search(ForwardPlan(problem))\n\u001b[1;32m     51\u001b[0m action_of_player_with_ball, prob \u001b[39m=\u001b[39m \u001b[39mself\u001b[39m\u001b[39m.\u001b[39mget_best_solution(sol,variables)\n\u001b[1;32m     52\u001b[0m results \u001b[39m=\u001b[39m \u001b[39mself\u001b[39m\u001b[39m.\u001b[39mchoose_player_success((player_with_ballposition, action_of_player_with_ball), variables,actions_defenses, \u001b[39mself\u001b[39m\u001b[39m.\u001b[39mfield\u001b[39m.\u001b[39mcoords_to_zone)\n",
      "File \u001b[0;32m~/Documents/GitHub/FIFA_World_Cup_2022/planning/search.py:227\u001b[0m, in \u001b[0;36mbreadth_first_tree_search\u001b[0;34m(problem, iterations)\u001b[0m\n\u001b[1;32m    225\u001b[0m     \u001b[39mif\u001b[39;00m problem\u001b[39m.\u001b[39mgoal_test(node\u001b[39m.\u001b[39mstate):\n\u001b[1;32m    226\u001b[0m         solutions_nodes\u001b[39m.\u001b[39mappend(node)\n\u001b[0;32m--> 227\u001b[0m     frontier\u001b[39m.\u001b[39mextend(node\u001b[39m.\u001b[39;49mexpand(problem))\n\u001b[1;32m    228\u001b[0m     iterations \u001b[39m-\u001b[39m\u001b[39m=\u001b[39m \u001b[39m1\u001b[39m\n\u001b[1;32m    229\u001b[0m \u001b[39m# print(len(solutions_nodes))\u001b[39;00m\n",
      "File \u001b[0;32m~/Documents/GitHub/FIFA_World_Cup_2022/planning/search.py:90\u001b[0m, in \u001b[0;36mNode.expand\u001b[0;34m(self, problem)\u001b[0m\n\u001b[1;32m     88\u001b[0m \u001b[39mdef\u001b[39;00m \u001b[39mexpand\u001b[39m(\u001b[39mself\u001b[39m, problem):\n\u001b[1;32m     89\u001b[0m     \u001b[39m\"\"\"List the nodes reachable in one step from this node.\"\"\"\u001b[39;00m\n\u001b[0;32m---> 90\u001b[0m     \u001b[39mreturn\u001b[39;00m [\u001b[39mself\u001b[39;49m\u001b[39m.\u001b[39;49mchild_node(problem, action)\n\u001b[1;32m     91\u001b[0m             \u001b[39mfor\u001b[39;49;00m action \u001b[39min\u001b[39;49;00m problem\u001b[39m.\u001b[39;49mactions(\u001b[39mself\u001b[39;49m\u001b[39m.\u001b[39;49mstate)]\n",
      "File \u001b[0;32m~/Documents/GitHub/FIFA_World_Cup_2022/planning/search.py:90\u001b[0m, in \u001b[0;36m<listcomp>\u001b[0;34m(.0)\u001b[0m\n\u001b[1;32m     88\u001b[0m \u001b[39mdef\u001b[39;00m \u001b[39mexpand\u001b[39m(\u001b[39mself\u001b[39m, problem):\n\u001b[1;32m     89\u001b[0m     \u001b[39m\"\"\"List the nodes reachable in one step from this node.\"\"\"\u001b[39;00m\n\u001b[0;32m---> 90\u001b[0m     \u001b[39mreturn\u001b[39;00m [\u001b[39mself\u001b[39;49m\u001b[39m.\u001b[39;49mchild_node(problem, action)\n\u001b[1;32m     91\u001b[0m             \u001b[39mfor\u001b[39;00m action \u001b[39min\u001b[39;00m problem\u001b[39m.\u001b[39mactions(\u001b[39mself\u001b[39m\u001b[39m.\u001b[39mstate)]\n",
      "File \u001b[0;32m~/Documents/GitHub/FIFA_World_Cup_2022/planning/search.py:94\u001b[0m, in \u001b[0;36mNode.child_node\u001b[0;34m(self, problem, action)\u001b[0m\n\u001b[1;32m     93\u001b[0m \u001b[39mdef\u001b[39;00m \u001b[39mchild_node\u001b[39m(\u001b[39mself\u001b[39m, problem, action):\n\u001b[0;32m---> 94\u001b[0m     next_state \u001b[39m=\u001b[39m problem\u001b[39m.\u001b[39;49mresult(\u001b[39mself\u001b[39;49m\u001b[39m.\u001b[39;49mstate, action)\n\u001b[1;32m     95\u001b[0m     next_node \u001b[39m=\u001b[39m Node(next_state, \u001b[39mself\u001b[39m, action,\n\u001b[1;32m     96\u001b[0m                      problem\u001b[39m.\u001b[39mpath_cost(\u001b[39mself\u001b[39m\u001b[39m.\u001b[39mpath_cost, \u001b[39mself\u001b[39m\u001b[39m.\u001b[39mstate, action, next_state))\n\u001b[1;32m     97\u001b[0m     \u001b[39mreturn\u001b[39;00m next_node\n",
      "File \u001b[0;32m~/Documents/GitHub/FIFA_World_Cup_2022/planning/planning.py:298\u001b[0m, in \u001b[0;36mForwardPlan.result\u001b[0;34m(self, state, action)\u001b[0m\n\u001b[1;32m    297\u001b[0m \u001b[39mdef\u001b[39;00m \u001b[39mresult\u001b[39m(\u001b[39mself\u001b[39m, state, action):\n\u001b[0;32m--> 298\u001b[0m     \u001b[39mreturn\u001b[39;00m associate(\u001b[39m'\u001b[39m\u001b[39m&\u001b[39m\u001b[39m'\u001b[39m, action(conjuncts(state), action\u001b[39m.\u001b[39;49margs)\u001b[39m.\u001b[39mclauses)\n",
      "File \u001b[0;32m~/Documents/GitHub/FIFA_World_Cup_2022/planning/planning.py:189\u001b[0m, in \u001b[0;36mAction.__call__\u001b[0;34m(self, kb, args)\u001b[0m\n\u001b[1;32m    188\u001b[0m \u001b[39mdef\u001b[39;00m \u001b[39m__call__\u001b[39m(\u001b[39mself\u001b[39m, kb, args):\n\u001b[0;32m--> 189\u001b[0m     \u001b[39mreturn\u001b[39;00m \u001b[39mself\u001b[39;49m\u001b[39m.\u001b[39;49mact(kb, args)\n",
      "File \u001b[0;32m~/Documents/GitHub/FIFA_World_Cup_2022/planning/planning.py:259\u001b[0m, in \u001b[0;36mAction.act\u001b[0;34m(self, kb, args)\u001b[0m\n\u001b[1;32m    256\u001b[0m     \u001b[39melse\u001b[39;00m:\n\u001b[1;32m    257\u001b[0m         new_clause \u001b[39m=\u001b[39m Expr(\u001b[39m'\u001b[39m\u001b[39mNot\u001b[39m\u001b[39m'\u001b[39m \u001b[39m+\u001b[39m clause\u001b[39m.\u001b[39mop, \u001b[39m*\u001b[39mclause\u001b[39m.\u001b[39margs)\n\u001b[0;32m--> 259\u001b[0m         \u001b[39mif\u001b[39;00m kb\u001b[39m.\u001b[39;49mask(\u001b[39mself\u001b[39;49m\u001b[39m.\u001b[39;49msubstitute(new_clause, args)) \u001b[39mis\u001b[39;00m \u001b[39mnot\u001b[39;00m \u001b[39mFalse\u001b[39;00m:\n\u001b[1;32m    260\u001b[0m             kb\u001b[39m.\u001b[39mretract(\u001b[39mself\u001b[39m\u001b[39m.\u001b[39msubstitute(new_clause, args))\n\u001b[1;32m    262\u001b[0m \u001b[39mreturn\u001b[39;00m kb\n",
      "File \u001b[0;32m~/Documents/GitHub/FIFA_World_Cup_2022/planning/logic.py:33\u001b[0m, in \u001b[0;36mKB.ask\u001b[0;34m(self, query)\u001b[0m\n\u001b[1;32m     31\u001b[0m \u001b[39mdef\u001b[39;00m \u001b[39mask\u001b[39m(\u001b[39mself\u001b[39m, query):\n\u001b[1;32m     32\u001b[0m     \u001b[39m\"\"\"Return a substitution that makes the query true, or, failing that, return False.\"\"\"\u001b[39;00m\n\u001b[0;32m---> 33\u001b[0m     \u001b[39mreturn\u001b[39;00m first(\u001b[39mself\u001b[39;49m\u001b[39m.\u001b[39;49mask_generator(query), default\u001b[39m=\u001b[39;49m\u001b[39mFalse\u001b[39;49;00m)\n",
      "File \u001b[0;32m~/Documents/GitHub/FIFA_World_Cup_2022/planning/utils.py:70\u001b[0m, in \u001b[0;36mfirst\u001b[0;34m(iterable, default)\u001b[0m\n\u001b[1;32m     68\u001b[0m \u001b[39mdef\u001b[39;00m \u001b[39mfirst\u001b[39m(iterable, default\u001b[39m=\u001b[39m\u001b[39mNone\u001b[39;00m):\n\u001b[1;32m     69\u001b[0m     \u001b[39m\"\"\"Return the first element of an iterable; or default.\"\"\"\u001b[39;00m\n\u001b[0;32m---> 70\u001b[0m     \u001b[39mreturn\u001b[39;00m \u001b[39mnext\u001b[39m(\u001b[39miter\u001b[39m(iterable), default)\n",
      "File \u001b[0;32m~/Documents/GitHub/FIFA_World_Cup_2022/planning/logic.py:748\u001b[0m, in \u001b[0;36mfol_bc_or\u001b[0;34m(kb, goal, theta)\u001b[0m\n\u001b[1;32m    746\u001b[0m \u001b[39mfor\u001b[39;00m rule \u001b[39min\u001b[39;00m kb\u001b[39m.\u001b[39mfetch_rules_for_goal(goal):\n\u001b[1;32m    747\u001b[0m     lhs, rhs \u001b[39m=\u001b[39m parse_definite_clause(standardize_variables(rule))\n\u001b[0;32m--> 748\u001b[0m     \u001b[39mfor\u001b[39;00m theta1 \u001b[39min\u001b[39;00m fol_bc_and(kb, lhs, unify_mm(rhs, goal, theta)):\n\u001b[1;32m    749\u001b[0m         \u001b[39myield\u001b[39;00m theta1\n",
      "File \u001b[0;32m~/Documents/GitHub/FIFA_World_Cup_2022/planning/logic.py:565\u001b[0m, in \u001b[0;36munify_mm\u001b[0;34m(x, y, s)\u001b[0m\n\u001b[1;32m    563\u001b[0m \u001b[39mwhile\u001b[39;00m \u001b[39mTrue\u001b[39;00m:\n\u001b[1;32m    564\u001b[0m     trans \u001b[39m=\u001b[39m \u001b[39m0\u001b[39m\n\u001b[0;32m--> 565\u001b[0m     \u001b[39mfor\u001b[39;00m x, y \u001b[39min\u001b[39;00m set_eq\u001b[39m.\u001b[39mitems():\n\u001b[1;32m    566\u001b[0m         \u001b[39mif\u001b[39;00m x \u001b[39m==\u001b[39m y:\n\u001b[1;32m    567\u001b[0m             \u001b[39m# if x = y this mapping is deleted (rule b)\u001b[39;00m\n\u001b[1;32m    568\u001b[0m             \u001b[39mdel\u001b[39;00m s[x]\n",
      "\u001b[0;31mKeyboardInterrupt\u001b[0m: "
     ]
    }
   ],
   "source": [
    "result = ant_colony.run(50)"
   ]
  },
  {
   "cell_type": "code",
   "execution_count": null,
   "metadata": {},
   "outputs": [],
   "source": [
    "result"
   ]
  }
 ],
 "metadata": {
  "kernelspec": {
   "display_name": "Python 3.11.0 64-bit",
   "language": "python",
   "name": "python3"
  },
  "language_info": {
   "codemirror_mode": {
    "name": "ipython",
    "version": 3
   },
   "file_extension": ".py",
   "mimetype": "text/x-python",
   "name": "python",
   "nbconvert_exporter": "python",
   "pygments_lexer": "ipython3",
   "version": "3.11.0"
  },
  "orig_nbformat": 4,
  "vscode": {
   "interpreter": {
    "hash": "e7370f93d1d0cde622a1f8e1c04877d8463912d04d973331ad4851f04de6915a"
   }
  }
 },
 "nbformat": 4,
 "nbformat_minor": 2
}
