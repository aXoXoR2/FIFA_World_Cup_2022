{
 "cells": [
  {
   "cell_type": "code",
   "execution_count": 29,
   "metadata": {},
   "outputs": [],
   "source": [
    "import json\n",
    "from field import Field\n",
    "from team import Team\n",
    "from game import Football"
   ]
  },
  {
   "cell_type": "code",
   "execution_count": 30,
   "metadata": {},
   "outputs": [],
   "source": [
    "# load data.json\n",
    "with open('data.json', 'r') as f:\n",
    "    data = json.load(f)\n",
    "\n",
    "zones = [\n",
    "    \"Defense Left\",\n",
    "    \"Defense Center\",\n",
    "    \"Defense Right\",\n",
    "\n",
    "    \"Midfield Left\",\n",
    "    \"Midfield Center\",\n",
    "    \"Midfield Right\",\n",
    "\n",
    "    \"Attack Left\",\n",
    "    \"Attack Center\",\n",
    "    \"Attack Right\"\n",
    "]\n"
   ]
  },
  {
   "cell_type": "code",
   "execution_count": 31,
   "metadata": {},
   "outputs": [],
   "source": [
    "\n",
    "field =  Field(\"game1\", 3,3, zones)\n",
    "team1 = Team(\"argentina\", data[\"argentina\"], \"coach1\")\n",
    "team2 = Team(\"brazil\", data[\"brazil\"], \"coach2\")\n",
    "\n",
    "game = Football(team1, team2, field, 90)"
   ]
  },
  {
   "cell_type": "code",
   "execution_count": 32,
   "metadata": {},
   "outputs": [
    {
     "name": "stdout",
     "output_type": "stream",
     "text": [
      "Playing Football\n",
      "Game Over\n",
      "winner: argentina\n"
     ]
    }
   ],
   "source": [
    "game.play()"
   ]
  },
  {
   "cell_type": "code",
   "execution_count": 33,
   "metadata": {},
   "outputs": [
    {
     "name": "stdout",
     "output_type": "stream",
     "text": [
      "[('A', ['quatar', 'ecuador', 'senegal', 'nethelands']), ('B', ['england', 'iran', 'usa', 'whales']), ('C', ['argentina', 'saudi-arabia', 'mexico', 'poland']), ('D', ['france', 'australia', 'denmark', 'tunisia']), ('E', ['spain', 'costa-rica', 'germany', 'japan']), ('F', ['morooco', 'croatia', 'belgium', 'canada']), ('G', ['bazil', 'serbia', 'switzerland', 'cameroon']), ('H', ['portugal', 'ghana', 'uruguay', 'south-korea'])]\n"
     ]
    }
   ],
   "source": [
    "from tournament import Tournament\n",
    "t = Tournament()\n",
    "print([(g.name, g.teams) for g in t.groups])"
   ]
  },
  {
   "cell_type": "code",
   "execution_count": 34,
   "metadata": {},
   "outputs": [
    {
     "name": "stdout",
     "output_type": "stream",
     "text": [
      "Winner:  iran\n",
      "Second Place:  ghana\n",
      "Third Place:  serbia\n"
     ]
    }
   ],
   "source": [
    "# t.groups\n",
    "t.run()"
   ]
  },
  {
   "cell_type": "code",
   "execution_count": 35,
   "metadata": {},
   "outputs": [
    {
     "name": "stdout",
     "output_type": "stream",
     "text": [
      "1\n",
      "2\n",
      "4\n",
      "5\n",
      "6\n"
     ]
    }
   ],
   "source": []
  },
  {
   "cell_type": "code",
   "execution_count": null,
   "metadata": {},
   "outputs": [],
   "source": []
  }
 ],
 "metadata": {
  "kernelspec": {
   "display_name": "Python 3.9.7 ('base')",
   "language": "python",
   "name": "python3"
  },
  "language_info": {
   "codemirror_mode": {
    "name": "ipython",
    "version": 3
   },
   "file_extension": ".py",
   "mimetype": "text/x-python",
   "name": "python",
   "nbconvert_exporter": "python",
   "pygments_lexer": "ipython3",
   "version": "3.9.7"
  },
  "orig_nbformat": 4,
  "vscode": {
   "interpreter": {
    "hash": "588779d6ef7e6f81e2169a879779fc8e5995f47f76c0b461de7632fa84667fbc"
   }
  }
 },
 "nbformat": 4,
 "nbformat_minor": 2
}
