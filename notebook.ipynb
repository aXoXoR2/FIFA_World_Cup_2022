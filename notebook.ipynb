{
 "cells": [
  {
   "cell_type": "code",
   "execution_count": 1,
   "metadata": {},
   "outputs": [],
   "source": [
    "import json\n",
    "from field import Field\n",
    "from team import Team\n",
    "from game import Football\n",
    "from tournament import Tournament"
   ]
  },
  {
   "cell_type": "code",
   "execution_count": 2,
   "metadata": {},
   "outputs": [
    {
     "name": "stdout",
     "output_type": "stream",
     "text": [
      "Starting tournament\n",
      "Start GameStart GameStart GameStart Game\n",
      "Start GameStart Game\n",
      "Start Game\n",
      "\n",
      "\n",
      "\n",
      "\n",
      "Team cameroon win [9, 15]\n",
      "Start Game\n",
      "Team germany win [12, 8]\n",
      "Start Game\n",
      "Draw mexico poland [10, 10]\n",
      "Start Game\n",
      "Team belgium win [16, 4]\n",
      "Start Game\n",
      "Team denmark win [8, 6]\n",
      "Start Game\n",
      "Draw uruguay south-korea [9, 9]\n",
      "Start Game\n",
      "Team netherlands win [4, 15]\n",
      "Start Game\n",
      "Team japan win [3, 7]\n",
      "Start Game\n",
      "Team serbia win [14, 9]\n",
      "Start Game\n",
      "Team canada win [5, 6]\n",
      "Start Game\n",
      "Team tunisia win [2, 6]\n",
      "Start Game\n",
      "Team poland win [7, 13]\n",
      "Start Game\n",
      "Team ghana win [10, 9]\n",
      "Start Game\n",
      "Team netherlands win [5, 16]\n",
      "Start Game\n"
     ]
    }
   ],
   "source": [
    "t = Tournament()\n",
    "t.run()"
   ]
  },
  {
   "cell_type": "code",
   "execution_count": null,
   "metadata": {},
   "outputs": [],
   "source": []
  },
  {
   "cell_type": "code",
   "execution_count": null,
   "metadata": {},
   "outputs": [
    {
     "name": "stdout",
     "output_type": "stream",
     "text": [
      "Playing Football\n",
      "Game Over\n",
      "winner: argentina\n"
     ]
    }
   ],
   "source": []
  },
  {
   "cell_type": "code",
   "execution_count": null,
   "metadata": {},
   "outputs": [
    {
     "name": "stdout",
     "output_type": "stream",
     "text": [
      "[('A', ['quatar', 'ecuador', 'senegal', 'nethelands']), ('B', ['england', 'iran', 'usa', 'whales']), ('C', ['argentina', 'saudi-arabia', 'mexico', 'poland']), ('D', ['france', 'australia', 'denmark', 'tunisia']), ('E', ['spain', 'costa-rica', 'germany', 'japan']), ('F', ['morooco', 'croatia', 'belgium', 'canada']), ('G', ['bazil', 'serbia', 'switzerland', 'cameroon']), ('H', ['portugal', 'ghana', 'uruguay', 'south-korea'])]\n"
     ]
    }
   ],
   "source": []
  },
  {
   "cell_type": "code",
   "execution_count": null,
   "metadata": {},
   "outputs": [
    {
     "name": "stdout",
     "output_type": "stream",
     "text": [
      "Winner:  iran\n",
      "Second Place:  ghana\n",
      "Third Place:  serbia\n"
     ]
    }
   ],
   "source": []
  },
  {
   "cell_type": "code",
   "execution_count": null,
   "metadata": {},
   "outputs": [
    {
     "name": "stdout",
     "output_type": "stream",
     "text": [
      "1\n",
      "2\n",
      "4\n",
      "5\n",
      "6\n"
     ]
    }
   ],
   "source": []
  },
  {
   "cell_type": "code",
   "execution_count": null,
   "metadata": {},
   "outputs": [],
   "source": []
  }
 ],
 "metadata": {
  "kernelspec": {
   "display_name": "Python 3.9.7 ('base')",
   "language": "python",
   "name": "python3"
  },
  "language_info": {
   "codemirror_mode": {
    "name": "ipython",
    "version": 3
   },
   "file_extension": ".py",
   "mimetype": "text/x-python",
   "name": "python",
   "nbconvert_exporter": "python",
   "pygments_lexer": "ipython3",
   "version": "3.9.7"
  },
  "orig_nbformat": 4,
  "vscode": {
   "interpreter": {
    "hash": "588779d6ef7e6f81e2169a879779fc8e5995f47f76c0b461de7632fa84667fbc"
   }
  }
 },
 "nbformat": 4,
 "nbformat_minor": 2
}
