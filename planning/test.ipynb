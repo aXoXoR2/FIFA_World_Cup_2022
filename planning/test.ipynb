{
 "cells": [
  {
   "cell_type": "code",
   "execution_count": 2,
   "metadata": {},
   "outputs": [],
   "source": [
    "from football import football_model\n",
    "from search import breadth_first_tree_search\n",
    "from planning import ForwardPlan\n"
   ]
  },
  {
   "cell_type": "code",
   "execution_count": 3,
   "metadata": {},
   "outputs": [
    {
     "name": "stdout",
     "output_type": "stream",
     "text": [
      "[<Node (BallPocesion(P) & PlayerInTeam(P, T) & PlayerInTeam(P1, T) & PlayerInTeam(P2, T) & PlayerInTeam(P3, T) & PlayerInTeam(P4, T) & PlayerInTeam(P5, T) & PlayerInTeam(P6, T) & PlayerInTeam(P2, T) & PlayerInTeam(P7, T) & PlayerInTeam(P8, T) & PlayerInTeam(P9, T) & PlayerInTeam(P10, T) & Player(P) & Team(T) & Player(P1) & Player(P2) & Player(P3) & Player(P4) & Player(P5) & Player(P6) & Player(P7) & Player(P8) & Player(P9) & Player(P10) & BallInGoal & NotBallPocesio(P))>, <Node (BallPocesion(P) & PlayerInTeam(P, T) & PlayerInTeam(P1, T) & PlayerInTeam(P2, T) & PlayerInTeam(P3, T) & PlayerInTeam(P4, T) & PlayerInTeam(P5, T) & PlayerInTeam(P6, T) & PlayerInTeam(P2, T) & PlayerInTeam(P7, T) & PlayerInTeam(P8, T) & PlayerInTeam(P9, T) & PlayerInTeam(P10, T) & Player(P) & Team(T) & Player(P1) & Player(P2) & Player(P3) & Player(P4) & Player(P5) & Player(P6) & Player(P7) & Player(P8) & Player(P9) & Player(P10) & BallInGoal & NotBallPocesio(P) & BallInGoal & NotBallPocesio(P))>, <Node (BallPocesion(P) & PlayerInTeam(P, T) & PlayerInTeam(P1, T) & PlayerInTeam(P2, T) & PlayerInTeam(P3, T) & PlayerInTeam(P4, T) & PlayerInTeam(P5, T) & PlayerInTeam(P6, T) & PlayerInTeam(P2, T) & PlayerInTeam(P7, T) & PlayerInTeam(P8, T) & PlayerInTeam(P9, T) & PlayerInTeam(P10, T) & Player(P) & Team(T) & Player(P1) & Player(P2) & Player(P3) & Player(P4) & Player(P5) & Player(P6) & Player(P7) & Player(P8) & Player(P9) & Player(P10) & BallInGoal & NotBallPocesio(P) & BallInGoal & NotBallPocesio(P) & BallInGoal & NotBallPocesio(P))>, <Node (BallPocesion(P) & PlayerInTeam(P, T) & PlayerInTeam(P1, T) & PlayerInTeam(P2, T) & PlayerInTeam(P3, T) & PlayerInTeam(P4, T) & PlayerInTeam(P5, T) & PlayerInTeam(P6, T) & PlayerInTeam(P2, T) & PlayerInTeam(P7, T) & PlayerInTeam(P8, T) & PlayerInTeam(P9, T) & PlayerInTeam(P10, T) & Player(P) & Team(T) & Player(P1) & Player(P2) & Player(P3) & Player(P4) & Player(P5) & Player(P6) & Player(P7) & Player(P8) & Player(P9) & Player(P10) & BallInGoal & NotBallPocesio(P) & BallInGoal & NotBallPocesio(P) & BallInGoal & NotBallPocesio(P) & BallInGoal & NotBallPocesio(P))>, <Node (BallPocesion(P) & PlayerInTeam(P, T) & PlayerInTeam(P1, T) & PlayerInTeam(P2, T) & PlayerInTeam(P3, T) & PlayerInTeam(P4, T) & PlayerInTeam(P5, T) & PlayerInTeam(P6, T) & PlayerInTeam(P2, T) & PlayerInTeam(P7, T) & PlayerInTeam(P8, T) & PlayerInTeam(P9, T) & PlayerInTeam(P10, T) & Player(P) & Team(T) & Player(P1) & Player(P2) & Player(P3) & Player(P4) & Player(P5) & Player(P6) & Player(P7) & Player(P8) & Player(P9) & Player(P10) & BallInGoal & NotBallPocesio(P) & BallInGoal & NotBallPocesio(P) & BallInGoal & NotBallPocesio(P) & BallInGoal & NotBallPocesio(P) & BallInGoal & NotBallPocesio(P))>, <Node (BallPocesion(P) & PlayerInTeam(P, T) & PlayerInTeam(P1, T) & PlayerInTeam(P2, T) & PlayerInTeam(P3, T) & PlayerInTeam(P4, T) & PlayerInTeam(P5, T) & PlayerInTeam(P6, T) & PlayerInTeam(P2, T) & PlayerInTeam(P7, T) & PlayerInTeam(P8, T) & PlayerInTeam(P9, T) & PlayerInTeam(P10, T) & Player(P) & Team(T) & Player(P1) & Player(P2) & Player(P3) & Player(P4) & Player(P5) & Player(P6) & Player(P7) & Player(P8) & Player(P9) & Player(P10) & BallInGoal & NotBallPocesio(P) & BallInGoal & NotBallPocesio(P) & BallInGoal & NotBallPocesio(P) & BallInGoal & NotBallPocesio(P) & BallInGoal & NotBallPocesio(P) & BallInGoal & NotBallPocesio(P))>, <Node (BallPocesion(P) & PlayerInTeam(P, T) & PlayerInTeam(P1, T) & PlayerInTeam(P2, T) & PlayerInTeam(P3, T) & PlayerInTeam(P4, T) & PlayerInTeam(P5, T) & PlayerInTeam(P6, T) & PlayerInTeam(P2, T) & PlayerInTeam(P7, T) & PlayerInTeam(P8, T) & PlayerInTeam(P9, T) & PlayerInTeam(P10, T) & Player(P) & Team(T) & Player(P1) & Player(P2) & Player(P3) & Player(P4) & Player(P5) & Player(P6) & Player(P7) & Player(P8) & Player(P9) & Player(P10) & BallInGoal & NotBallPocesio(P) & BallInGoal & NotBallPocesio(P) & BallInGoal & NotBallPocesio(P) & BallInGoal & NotBallPocesio(P) & BallInGoal & NotBallPocesio(P) & BallInGoal & NotBallPocesio(P) & BallInGoal & NotBallPocesio(P))>, <Node (BallPocesion(P) & PlayerInTeam(P, T) & PlayerInTeam(P1, T) & PlayerInTeam(P2, T) & PlayerInTeam(P3, T) & PlayerInTeam(P4, T) & PlayerInTeam(P5, T) & PlayerInTeam(P6, T) & PlayerInTeam(P2, T) & PlayerInTeam(P7, T) & PlayerInTeam(P8, T) & PlayerInTeam(P9, T) & PlayerInTeam(P10, T) & Player(P) & Team(T) & Player(P1) & Player(P2) & Player(P3) & Player(P4) & Player(P5) & Player(P6) & Player(P7) & Player(P8) & Player(P9) & Player(P10) & BallInGoal & NotBallPocesio(P) & BallInGoal & NotBallPocesio(P) & BallInGoal & NotBallPocesio(P) & BallInGoal & NotBallPocesio(P) & BallInGoal & NotBallPocesio(P) & BallInGoal & NotBallPocesio(P) & BallInGoal & NotBallPocesio(P) & BallInGoal & NotBallPocesio(P))>, <Node (BallPocesion(P) & PlayerInTeam(P, T) & PlayerInTeam(P1, T) & PlayerInTeam(P2, T) & PlayerInTeam(P3, T) & PlayerInTeam(P4, T) & PlayerInTeam(P5, T) & PlayerInTeam(P6, T) & PlayerInTeam(P2, T) & PlayerInTeam(P7, T) & PlayerInTeam(P8, T) & PlayerInTeam(P9, T) & PlayerInTeam(P10, T) & Player(P) & Team(T) & Player(P1) & Player(P2) & Player(P3) & Player(P4) & Player(P5) & Player(P6) & Player(P7) & Player(P8) & Player(P9) & Player(P10) & BallInGoal & NotBallPocesio(P) & BallInGoal & NotBallPocesio(P) & BallInGoal & NotBallPocesio(P) & BallInGoal & NotBallPocesio(P) & BallInGoal & NotBallPocesio(P) & BallInGoal & NotBallPocesio(P) & BallInGoal & NotBallPocesio(P) & BallInGoal & NotBallPocesio(P) & BallInGoal & NotBallPocesio(P))>]\n"
     ]
    },
    {
     "ename": "AttributeError",
     "evalue": "'list' object has no attribute 'solution'",
     "output_type": "error",
     "traceback": [
      "\u001b[0;31m---------------------------------------------------------------------------\u001b[0m",
      "\u001b[0;31mAttributeError\u001b[0m                            Traceback (most recent call last)",
      "Cell \u001b[0;32mIn [3], line 2\u001b[0m\n\u001b[1;32m      1\u001b[0m problem \u001b[38;5;241m=\u001b[39m football_model()\n\u001b[0;32m----> 2\u001b[0m solution \u001b[38;5;241m=\u001b[39m \u001b[43mbreadth_first_tree_search\u001b[49m\u001b[43m(\u001b[49m\u001b[43mForwardPlan\u001b[49m\u001b[43m(\u001b[49m\u001b[43mproblem\u001b[49m\u001b[43m)\u001b[49m\u001b[43m)\u001b[49m\u001b[38;5;241;43m.\u001b[39;49m\u001b[43msolution\u001b[49m()\n",
      "\u001b[0;31mAttributeError\u001b[0m: 'list' object has no attribute 'solution'"
     ]
    }
   ],
   "source": [
    "problem = football_model()\n",
    "solution = breadth_first_tree_search(ForwardPlan(problem)).solution()"
   ]
  },
  {
   "cell_type": "code",
   "execution_count": null,
   "metadata": {},
   "outputs": [],
   "source": []
  }
 ],
 "metadata": {
  "kernelspec": {
   "display_name": "Python 3.10.7 64-bit",
   "language": "python",
   "name": "python3"
  },
  "language_info": {
   "codemirror_mode": {
    "name": "ipython",
    "version": 3
   },
   "file_extension": ".py",
   "mimetype": "text/x-python",
   "name": "python",
   "nbconvert_exporter": "python",
   "pygments_lexer": "ipython3",
   "version": "3.10.7"
  },
  "orig_nbformat": 4,
  "vscode": {
   "interpreter": {
    "hash": "916dbcbb3f70747c44a77c7bcd40155683ae19c65e1c03b4aa3499c5328201f1"
   }
  }
 },
 "nbformat": 4,
 "nbformat_minor": 2
}
