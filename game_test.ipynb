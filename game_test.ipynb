{
 "cells": [
  {
   "cell_type": "code",
   "execution_count": 1,
   "metadata": {},
   "outputs": [],
   "source": [
    "\n",
    "\n",
    "from planning.football import football_model\n",
    "from planning.search import breadth_first_tree_search\n",
    "from planning.planning import ForwardPlan\n",
    "from team import Team\n",
    "from game import Football\n",
    "from field import Field\n",
    "from team import Team\n",
    "zones = [\n",
    "    \"Defense Left\",\n",
    "    \"Defense Center\",\n",
    "    \"Defense Right\",\n",
    "\n",
    "    \"Midfield Left\",\n",
    "    \"Midfield Center\",\n",
    "    \"Midfield Right\",\n",
    "\n",
    "    \"Attack Left\",\n",
    "    \"Attack Center\",\n",
    "    \"Attack Right\"\n",
    "]\n",
    "field = Field(\"f1\", 3, 3, zones)\n"
   ]
  },
  {
   "cell_type": "code",
   "execution_count": null,
   "metadata": {},
   "outputs": [],
   "source": []
  },
  {
   "cell_type": "code",
   "execution_count": 2,
   "metadata": {},
   "outputs": [],
   "source": [
    "# x = game.play()\n"
   ]
  },
  {
   "cell_type": "code",
   "execution_count": 3,
   "metadata": {},
   "outputs": [],
   "source": [
    "# for i in range(1):\n",
    "#     game = Football(team1, team2, field, 45)\n",
    "#     x = game.play()\n",
    "#     match[x.team_name] += 1\n",
    "\n",
    "# match"
   ]
  },
  {
   "cell_type": "code",
   "execution_count": 4,
   "metadata": {},
   "outputs": [
    {
     "name": "stdout",
     "output_type": "stream",
     "text": [
      "Start Game\n",
      "Initialization Complete\n",
      "Player Akram-afif is shooting\n",
      "Gonzalo-plata now has the ball\n",
      "ecuador  now has the ball\n",
      "Player Gonzalo-plata is shooting\n",
      "Gonzalo-plata Goooooooalll\n",
      "Almoez-ali now has the ball\n",
      "qatar  now has the ball\n",
      "Player Almoez-ali is shooting\n",
      "Alexander-dominguez now has the ball\n",
      "ecuador  now has the ball\n",
      "Piero-hincapie now has the ball\n",
      "Angel-mena now has the ball\n",
      "Player Angel-mena is shooting\n",
      "Angel-mena Goooooooalll\n",
      "Almoez-ali now has the ball\n",
      "qatar  now has the ball\n",
      "Player Almoez-ali is shooting\n",
      "Alexander-dominguez now has the ball\n",
      "ecuador  now has the ball\n",
      "Piero-hincapie now has the ball\n",
      "Angel-mena now has the ball\n",
      "Player Angel-mena is shooting\n",
      "Ismael-mohammed now has the ball\n",
      "qatar  now has the ball\n",
      "Player Ismael-mohammed is shooting\n",
      "Alexander-dominguez now has the ball\n",
      "ecuador  now has the ball\n",
      "Piero-hincapie now has the ball\n",
      "Angel-mena now has the ball\n",
      "Player Angel-mena is shooting\n",
      "Angel-mena Goooooooalll\n",
      "Akram-afif now has the ball\n",
      "qatar  now has the ball\n",
      "Player Akram-afif is shooting\n",
      "Alexander-dominguez now has the ball\n",
      "ecuador  now has the ball\n",
      "Piero-hincapie now has the ball\n",
      "Angel-mena now has the ball\n",
      "Player Angel-mena is shooting\n",
      "Mostafa-mashaal now has the ball\n",
      "qatar  now has the ball\n",
      "Time:  17\r"
     ]
    }
   ],
   "source": [
    "from multiprocessing import Process\n",
    "from time import sleep\n",
    "import pandas as pd\n",
    "from typing import List, Tuple\n",
    "\n",
    "def run_group_matches(matches: List[Tuple[str, str]], group_name: str, iterations=30):\n",
    "    df = pd.DataFrame(columns=['Team1', 'Team2', 'Wins1', \"Wins2\"])\n",
    "    for t1,t2 in matches:\n",
    "        team1 = Team(t2, field.field)\n",
    "        team2 = Team(t1, field.field)\n",
    "\n",
    "        Pros = []\n",
    "        match = {\n",
    "            team1.team_name: 0,\n",
    "            team2.team_name: 0\n",
    "        }\n",
    "\n",
    "        def function_x():\n",
    "            game = Football(team1, team2, field, 90)\n",
    "            x = game.play()\n",
    "            if x is not None:\n",
    "                match[x.team_name] += 1\n",
    "        \n",
    "        for i in range(iterations):\n",
    "            function_x()\n",
    "        \n",
    "        df.append({'Team1': team1.team_name, 'Team2': team2.team_name, 'Wins1': match[team1.team_name], 'Wins2': match[team2.team_name]}, ignore_index=True)\n",
    "        print(df)\n",
    "    df.dump_csv(f'{group_name}.csv')\n",
    "\n",
    "group_A = [('qatar', 'ecuador'), ('qatar', 'senegal'), ('qatar', 'netherlands'), ('ecuador', 'senegal'), ('ecuador', 'netherlands'), ('senegal', 'netherlands')]\n",
    "group_B = [('england', 'iran'), ('england', 'usa'), ('england', 'wales'), ('iran', 'usa'), ('iran', 'wales'), ('usa', 'wales')]\n",
    "group_C = [('argentina', 'saudi-arabia'), ('argentina', 'mexico'), ('argentina', 'poland'), ('saudi-arabia', 'mexico'), ('saudi-arabia', 'poland'), ('mexico', 'poland')]\n",
    "group_D = [('france', 'australia'), ('france', 'denmark'), ('france', 'tunisia'), ('australia', 'denmark'), ('australia', 'tunisia'), ('denmark', 'tunisia')]\n",
    "group_E = [('spain', 'costa-rica'), ('spain', 'germany'), ('spain', 'japan'), ('costa-rica', 'germany'), ('costa-rica', 'japan'), ('germany', 'japan')]\n",
    "group_F = [('belgium', 'canada'), ('belgium', 'morocco'), ('belgium', 'croatia'), ('canada', 'morocco'), ('canada', 'croatia'), ('morocco', 'croatia')]\n",
    "\n",
    "matches = [(\"portugal\", \"ghana\"),('portugal', 'uruguay'),('portugal', 'south-korea'),('ghana', \"uruguay\"),('ghana', \"south-korea\"),(\"uruguay\", \"south-korea\")]\n",
    "\n",
    "run_group_matches(group_A, 'group_A', 1)\n",
    "# df = pd.DataFrame(columns=['Team1', 'Team2','Wins1', \"Wins2\"])\n",
    "\n",
    "# for t1,t2 in matches:\n",
    "#     team1 = Team(t2, field.field)\n",
    "#     team2 = Team(t1, field.field)\n",
    "\n",
    "\n",
    "#     Pros = []\n",
    "#     match = {\n",
    "#         team1.team_name: 0,\n",
    "#         team2.team_name: 0\n",
    "#     }\n",
    "\n",
    "#     def function_x():\n",
    "#         game = Football(team1, team2, field, 90)\n",
    "#         x = game.play()\n",
    "#         if x is not None:\n",
    "#             match[x.team_name] += 1\n",
    "     \n",
    "\n",
    "#     for i in range(10):\n",
    "#         function_x()\n",
    "    \n",
    "#     df.append({'Team1': team1.team_name, 'Team2': team2.team_name, 'Wins1': match[team1.team_name], 'Wins2': match[team2.team_name]}, ignore_index=True)\n",
    "#     print(df)\n",
    "\n"
   ]
  },
  {
   "cell_type": "code",
   "execution_count": null,
   "metadata": {},
   "outputs": [
    {
     "data": {
      "text/plain": [
       "{'germany': 0, 'argentina': 1}"
      ]
     },
     "execution_count": 7,
     "metadata": {},
     "output_type": "execute_result"
    }
   ],
   "source": [
    "# match"
   ]
  },
  {
   "cell_type": "code",
   "execution_count": null,
   "metadata": {},
   "outputs": [
    {
     "name": "stdout",
     "output_type": "stream",
     "text": [
      "{'germany': 0, 'argentina': 1}\n"
     ]
    }
   ],
   "source": [
    "# print(match)"
   ]
  },
  {
   "cell_type": "code",
   "execution_count": null,
   "metadata": {},
   "outputs": [
    {
     "data": {
      "text/html": [
       "<div>\n",
       "<style scoped>\n",
       "    .dataframe tbody tr th:only-of-type {\n",
       "        vertical-align: middle;\n",
       "    }\n",
       "\n",
       "    .dataframe tbody tr th {\n",
       "        vertical-align: top;\n",
       "    }\n",
       "\n",
       "    .dataframe thead th {\n",
       "        text-align: right;\n",
       "    }\n",
       "</style>\n",
       "<table border=\"1\" class=\"dataframe\">\n",
       "  <thead>\n",
       "    <tr style=\"text-align: right;\">\n",
       "      <th></th>\n",
       "      <th>Team1</th>\n",
       "      <th>Team2</th>\n",
       "      <th>Wins1</th>\n",
       "      <th>Wins2</th>\n",
       "    </tr>\n",
       "  </thead>\n",
       "  <tbody>\n",
       "    <tr>\n",
       "      <th>0</th>\n",
       "      <td>germany</td>\n",
       "      <td>argentina</td>\n",
       "      <td>0</td>\n",
       "      <td>1</td>\n",
       "    </tr>\n",
       "  </tbody>\n",
       "</table>\n",
       "</div>"
      ],
      "text/plain": [
       "     Team1      Team2 Wins1 Wins2\n",
       "0  germany  argentina     0     1"
      ]
     },
     "execution_count": 23,
     "metadata": {},
     "output_type": "execute_result"
    }
   ],
   "source": []
  },
  {
   "cell_type": "code",
   "execution_count": null,
   "metadata": {},
   "outputs": [],
   "source": [
    "# df.dump_csv(\"group_h.csv\")"
   ]
  },
  {
   "cell_type": "code",
   "execution_count": null,
   "metadata": {},
   "outputs": [
    {
     "data": {
      "text/html": [
       "<div>\n",
       "<style scoped>\n",
       "    .dataframe tbody tr th:only-of-type {\n",
       "        vertical-align: middle;\n",
       "    }\n",
       "\n",
       "    .dataframe tbody tr th {\n",
       "        vertical-align: top;\n",
       "    }\n",
       "\n",
       "    .dataframe thead th {\n",
       "        text-align: right;\n",
       "    }\n",
       "</style>\n",
       "<table border=\"1\" class=\"dataframe\">\n",
       "  <thead>\n",
       "    <tr style=\"text-align: right;\">\n",
       "      <th></th>\n",
       "      <th>germany</th>\n",
       "      <th>argentina</th>\n",
       "    </tr>\n",
       "  </thead>\n",
       "  <tbody>\n",
       "    <tr>\n",
       "      <th>0</th>\n",
       "      <td>0.0</td>\n",
       "      <td>1.0</td>\n",
       "    </tr>\n",
       "  </tbody>\n",
       "</table>\n",
       "</div>"
      ],
      "text/plain": [
       "   germany  argentina\n",
       "0      0.0        1.0"
      ]
     },
     "execution_count": 21,
     "metadata": {},
     "output_type": "execute_result"
    }
   ],
   "source": [
    "# df"
   ]
  },
  {
   "cell_type": "code",
   "execution_count": null,
   "metadata": {},
   "outputs": [],
   "source": [
    "\n",
    "# matches = [(\"brazil\", \"serbia\"),(\"brazil\", 'switzerland'),('brazil', 'cameroon'),('serbia', \"switzerland\"),('serbia', \"cameroon\"),(\"switzerland\", \"cameroon\")]\n",
    "# df = pd.DataFrame(columns=['Team1', 'Team2','Wins1', \"Wins2\"])\n",
    "\n",
    "# for t1,t2 in matches:\n",
    "#     team1 = Team(t2, field.field)\n",
    "#     team2 = Team(t1, field.field)\n",
    "\n",
    "\n",
    "#     Pros = []\n",
    "#     match = {\n",
    "#         team1.team_name: 0,\n",
    "#         team2.team_name: 0\n",
    "#     }\n",
    "\n",
    "#     def function_x():\n",
    "#         game = Football(team1, team2, field, 90)\n",
    "#         x = game.play()\n",
    "#         if x is not None:\n",
    "#             match[x.team_name] += 1\n",
    "     \n",
    "\n",
    "#     for i in range(10):\n",
    "#         function_x()\n",
    "    \n",
    "#     df.append({'Team1': team1.team_name, 'Team2': team2.team_name, 'Wins1': match[team1.team_name], 'Wins2': match[team2.team_name]}, ignore_index=True)\n",
    "#     print(df)\n",
    "\n"
   ]
  },
  {
   "cell_type": "code",
   "execution_count": null,
   "metadata": {},
   "outputs": [],
   "source": [
    "# df.dump_csv(\"group_g.csv\")"
   ]
  }
 ],
 "metadata": {
  "kernelspec": {
   "display_name": "Python 3.9.7 ('base')",
   "language": "python",
   "name": "python3"
  },
  "language_info": {
   "codemirror_mode": {
    "name": "ipython",
    "version": 3
   },
   "file_extension": ".py",
   "mimetype": "text/x-python",
   "name": "python",
   "nbconvert_exporter": "python",
   "pygments_lexer": "ipython3",
   "version": "3.9.7"
  },
  "orig_nbformat": 4,
  "vscode": {
   "interpreter": {
    "hash": "588779d6ef7e6f81e2169a879779fc8e5995f47f76c0b461de7632fa84667fbc"
   }
  }
 },
 "nbformat": 4,
 "nbformat_minor": 2
}
