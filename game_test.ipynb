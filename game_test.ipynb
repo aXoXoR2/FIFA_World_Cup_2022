{
 "cells": [
  {
   "cell_type": "code",
   "execution_count": 1,
   "metadata": {},
   "outputs": [],
   "source": [
    "\n",
    "\n",
    "from planning.football import football_model\n",
    "from planning.search import breadth_first_tree_search\n",
    "from planning.planning import ForwardPlan\n",
    "from team import Team\n",
    "from game import Football\n",
    "from field import Field\n",
    "from team import Team\n",
    "zones = [\n",
    "    \"Defense Left\",\n",
    "    \"Defense Center\",\n",
    "    \"Defense Right\",\n",
    "\n",
    "    \"Midfield Left\",\n",
    "    \"Midfield Center\",\n",
    "    \"Midfield Right\",\n",
    "\n",
    "    \"Attack Left\",\n",
    "    \"Attack Center\",\n",
    "    \"Attack Right\"\n",
    "]\n",
    "field = Field(\"f1\", 3, 3, zones)\n"
   ]
  },
  {
   "cell_type": "code",
   "execution_count": null,
   "metadata": {},
   "outputs": [],
   "source": []
  },
  {
   "cell_type": "code",
   "execution_count": 2,
   "metadata": {},
   "outputs": [],
   "source": [
    "# x = game.play()\n"
   ]
  },
  {
   "cell_type": "code",
   "execution_count": 3,
   "metadata": {},
   "outputs": [],
   "source": [
    "# for i in range(1):\n",
    "#     game = Football(team1, team2, field, 45)\n",
    "#     x = game.play()\n",
    "#     match[x.team_name] += 1\n",
    "\n",
    "# match"
   ]
  },
  {
   "cell_type": "code",
   "execution_count": 4,
   "metadata": {},
   "outputs": [
    {
     "name": "stdout",
     "output_type": "stream",
     "text": [
      "Start Game\n",
      "Initialization Complete\n",
      "Player Almoez-ali is shooting\n",
      "Almoez-ali Goooooooalll\n",
      "Michael-estrada now has the ball\n",
      "ecuador  now has the ball\n",
      "Game Over\n",
      "Team qatar win [0, 1]\n",
      "Start Game\n",
      "Initialization Complete\n",
      "Player Gonzalo-plata is shooting\n",
      "Gonzalo-plata Goooooooalll\n",
      "Akram-afif now has the ball\n",
      "qatar  now has the ball\n",
      "Game Over\n",
      "Team ecuador win [1, 0]\n",
      "Start Game\n",
      "Initialization Complete\n",
      "Player Michael-estrada is shooting\n",
      "Yousef-hassan now has the ball\n",
      "qatar  now has the ball\n",
      "Game Over\n",
      "Draw ecuador qatar [0, 0]\n",
      "     Team1  Team2 Wins1 Wins2\n",
      "0  ecuador  qatar     1     1\n",
      "Start Game\n",
      "Initialization Complete\n"
     ]
    },
    {
     "name": "stderr",
     "output_type": "stream",
     "text": [
      "/tmp/ipykernel_24107/2306091393.py:27: FutureWarning: The frame.append method is deprecated and will be removed from pandas in a future version. Use pandas.concat instead.\n",
      "  df = df.append({'Team1': team1.team_name, 'Team2': team2.team_name, 'Wins1': match[team1.team_name], 'Wins2': match[team2.team_name]}, ignore_index=True)\n"
     ]
    },
    {
     "name": "stdout",
     "output_type": "stream",
     "text": [
      "Player Sadio-mane is shooting\n",
      "Sadio-mane Goooooooalll\n",
      "Almoez-ali now has the ball\n",
      "qatar  now has the ball\n",
      "Game Over\n",
      "Team senegal win [1, 0]\n",
      "Start Game\n",
      "Initialization Complete\n",
      "Player Almoez-ali is shooting\n",
      "Edouard-mendy now has the ball\n",
      "senegal  now has the ball\n",
      "Game Over\n",
      "Draw senegal qatar [0, 0]\n",
      "Start Game\n",
      "Initialization Complete\n",
      "Player Ismaila-sarr is shooting\n",
      "Akram-afif now has the ball\n",
      "qatar  now has the ball\n",
      "Game Over\n",
      "Draw senegal qatar [0, 0]\n",
      "     Team1  Team2 Wins1 Wins2\n",
      "0  ecuador  qatar     1     1\n",
      "1  senegal  qatar     1     0\n",
      "Start Game\n",
      "Initialization Complete\n"
     ]
    },
    {
     "name": "stderr",
     "output_type": "stream",
     "text": [
      "/tmp/ipykernel_24107/2306091393.py:27: FutureWarning: The frame.append method is deprecated and will be removed from pandas in a future version. Use pandas.concat instead.\n",
      "  df = df.append({'Team1': team1.team_name, 'Team2': team2.team_name, 'Wins1': match[team1.team_name], 'Wins2': match[team2.team_name]}, ignore_index=True)\n"
     ]
    },
    {
     "name": "stdout",
     "output_type": "stream",
     "text": [
      "Player Akram-afif is shooting\n",
      "Memphis-depay now has the ball\n",
      "netherlands  now has the ball\n",
      "Game Over\n",
      "Draw netherlands qatar [0, 0]\n",
      "Start Game\n",
      "Initialization Complete\n",
      "Player Memphis-depay is shooting\n",
      "Memphis-depay Goooooooalll\n",
      "Akram-afif now has the ball\n",
      "qatar  now has the ball\n",
      "Game Over\n",
      "Team netherlands win [1, 0]\n",
      "Start Game\n",
      "Initialization Complete\n",
      "Player Memphis-depay is shooting\n",
      "Yousef-hassan now has the ball\n",
      "qatar  now has the ball\n",
      "Game Over\n",
      "Draw netherlands qatar [0, 0]\n",
      "         Team1  Team2 Wins1 Wins2\n",
      "0      ecuador  qatar     1     1\n",
      "1      senegal  qatar     1     0\n",
      "2  netherlands  qatar     1     0\n",
      "Start Game\n",
      "Initialization Complete\n"
     ]
    },
    {
     "name": "stderr",
     "output_type": "stream",
     "text": [
      "/tmp/ipykernel_24107/2306091393.py:27: FutureWarning: The frame.append method is deprecated and will be removed from pandas in a future version. Use pandas.concat instead.\n",
      "  df = df.append({'Team1': team1.team_name, 'Team2': team2.team_name, 'Wins1': match[team1.team_name], 'Wins2': match[team2.team_name]}, ignore_index=True)\n"
     ]
    },
    {
     "name": "stdout",
     "output_type": "stream",
     "text": [
      "Player Dia-boulaye is shooting\n",
      "Dia-boulaye Goooooooalll\n",
      "Gonzalo-plata now has the ball\n",
      "ecuador  now has the ball\n",
      "Game Over\n",
      "Team senegal win [1, 0]\n",
      "Start Game\n",
      "Initialization Complete\n",
      "Player Michael-estrada is shooting\n",
      "Edouard-mendy now has the ball\n",
      "senegal  now has the ball\n",
      "Game Over\n",
      "Draw senegal ecuador [0, 0]\n",
      "Start Game\n",
      "Initialization Complete\n",
      "Player Sadio-mane is shooting\n",
      "Alexander-dominguez now has the ball\n",
      "ecuador  now has the ball\n",
      "Game Over\n",
      "Draw senegal ecuador [0, 0]\n",
      "         Team1    Team2 Wins1 Wins2\n",
      "0      ecuador    qatar     1     1\n",
      "1      senegal    qatar     1     0\n",
      "2  netherlands    qatar     1     0\n",
      "3      senegal  ecuador     1     0\n",
      "Start Game\n",
      "Initialization Complete\n"
     ]
    },
    {
     "name": "stderr",
     "output_type": "stream",
     "text": [
      "/tmp/ipykernel_24107/2306091393.py:27: FutureWarning: The frame.append method is deprecated and will be removed from pandas in a future version. Use pandas.concat instead.\n",
      "  df = df.append({'Team1': team1.team_name, 'Team2': team2.team_name, 'Wins1': match[team1.team_name], 'Wins2': match[team2.team_name]}, ignore_index=True)\n"
     ]
    },
    {
     "name": "stdout",
     "output_type": "stream",
     "text": [
      "Player Ibarra-romario is shooting\n",
      "Steven-bergwijn now has the ball\n",
      "netherlands  now has the ball\n",
      "Game Over\n",
      "Draw netherlands ecuador [0, 0]\n",
      "Start Game\n",
      "Initialization Complete\n",
      "Player Memphis-depay is shooting\n",
      "Alexander-dominguez now has the ball\n",
      "ecuador  now has the ball\n",
      "Game Over\n",
      "Draw netherlands ecuador [0, 0]\n",
      "Start Game\n",
      "Initialization Complete\n",
      "Player Gonzalo-plata is shooting\n",
      " Pasveer now has the ball\n",
      "netherlands  now has the ball\n",
      "Game Over\n",
      "Draw netherlands ecuador [0, 0]\n",
      "         Team1    Team2 Wins1 Wins2\n",
      "0      ecuador    qatar     1     1\n",
      "1      senegal    qatar     1     0\n",
      "2  netherlands    qatar     1     0\n",
      "3      senegal  ecuador     1     0\n",
      "4  netherlands  ecuador     0     0\n",
      "Start Game\n",
      "Initialization Complete\n"
     ]
    },
    {
     "name": "stderr",
     "output_type": "stream",
     "text": [
      "/tmp/ipykernel_24107/2306091393.py:27: FutureWarning: The frame.append method is deprecated and will be removed from pandas in a future version. Use pandas.concat instead.\n",
      "  df = df.append({'Team1': team1.team_name, 'Team2': team2.team_name, 'Wins1': match[team1.team_name], 'Wins2': match[team2.team_name]}, ignore_index=True)\n"
     ]
    },
    {
     "name": "stdout",
     "output_type": "stream",
     "text": [
      "Player Steven-bergwijn is shooting\n",
      "Steven-bergwijn Goooooooalll\n",
      "Sadio-mane now has the ball\n",
      "senegal  now has the ball\n",
      "Game Over\n",
      "Team netherlands win [1, 0]\n",
      "Start Game\n",
      "Initialization Complete\n",
      "Player Steven-bergwijn is shooting\n",
      "Ismaila-sarr now has the ball\n",
      "senegal  now has the ball\n",
      "Game Over\n",
      "Draw netherlands senegal [0, 0]\n",
      "Start Game\n",
      "Initialization Complete\n",
      "Player Ismaila-sarr is shooting\n",
      "Memphis-depay now has the ball\n",
      "netherlands  now has the ball\n",
      "Game Over\n",
      "Draw netherlands senegal [0, 0]\n",
      "         Team1    Team2 Wins1 Wins2\n",
      "0      ecuador    qatar     1     1\n",
      "1      senegal    qatar     1     0\n",
      "2  netherlands    qatar     1     0\n",
      "3      senegal  ecuador     1     0\n",
      "4  netherlands  ecuador     0     0\n",
      "5  netherlands  senegal     1     0\n"
     ]
    },
    {
     "name": "stderr",
     "output_type": "stream",
     "text": [
      "/tmp/ipykernel_24107/2306091393.py:27: FutureWarning: The frame.append method is deprecated and will be removed from pandas in a future version. Use pandas.concat instead.\n",
      "  df = df.append({'Team1': team1.team_name, 'Team2': team2.team_name, 'Wins1': match[team1.team_name], 'Wins2': match[team2.team_name]}, ignore_index=True)\n"
     ]
    }
   ],
   "source": [
    "from multiprocessing import Process\n",
    "from time import sleep\n",
    "import pandas as pd\n",
    "from typing import List, Tuple\n",
    "\n",
    "def run_group_matches(matches: List[Tuple[str, str]], group_name: str, iterations=30):\n",
    "    df = pd.DataFrame(columns=['Team1', 'Team2', 'Wins1', \"Wins2\"])\n",
    "    for t1,t2 in matches:\n",
    "        team1 = Team(t2, field.field)\n",
    "        team2 = Team(t1, field.field)\n",
    "\n",
    "        Pros = []\n",
    "        match = {\n",
    "            team1.team_name: 0,\n",
    "            team2.team_name: 0\n",
    "        }\n",
    "\n",
    "        def function_x():\n",
    "            game = Football(team1, team2, field, 90)\n",
    "            x = game.play()\n",
    "            if x is not None:\n",
    "                match[x.team_name] += 1\n",
    "        \n",
    "        for i in range(iterations):\n",
    "            function_x()\n",
    "        \n",
    "        df = df.append({'Team1': team1.team_name, 'Team2': team2.team_name, 'Wins1': match[team1.team_name], 'Wins2': match[team2.team_name]}, ignore_index=True)\n",
    "        print(df)\n",
    "    df.to_csv(f'{group_name}.csv')\n",
    "\n",
    "group_A = [('qatar', 'ecuador'), ('qatar', 'senegal'), ('qatar', 'netherlands'), ('ecuador', 'senegal'), ('ecuador', 'netherlands'), ('senegal', 'netherlands')]\n",
    "group_B = [('england', 'iran'), ('england', 'usa'), ('england', 'wales'), ('iran', 'usa'), ('iran', 'wales'), ('usa', 'wales')]\n",
    "group_C = [('argentina', 'saudi-arabia'), ('argentina', 'mexico'), ('argentina', 'poland'), ('saudi-arabia', 'mexico'), ('saudi-arabia', 'poland'), ('mexico', 'poland')]\n",
    "group_D = [('france', 'australia'), ('france', 'denmark'), ('france', 'tunisia'), ('australia', 'denmark'), ('australia', 'tunisia'), ('denmark', 'tunisia')]\n",
    "group_E = [('spain', 'costa-rica'), ('spain', 'germany'), ('spain', 'japan'), ('costa-rica', 'germany'), ('costa-rica', 'japan'), ('germany', 'japan')]\n",
    "group_F = [('belgium', 'canada'), ('belgium', 'morocco'), ('belgium', 'croatia'), ('canada', 'morocco'), ('canada', 'croatia'), ('morocco', 'croatia')]\n",
    "\n",
    "matches = [(\"portugal\", \"ghana\"),('portugal', 'uruguay'),('portugal', 'south-korea'),('ghana', \"uruguay\"),('ghana', \"south-korea\"),(\"uruguay\", \"south-korea\")]\n",
    "\n",
    "run_group_matches(group_A, 'group_A')\n",
    "# df = pd.DataFrame(columns=['Team1', 'Team2','Wins1', \"Wins2\"])\n",
    "\n",
    "# for t1,t2 in matches:\n",
    "#     team1 = Team(t2, field.field)\n",
    "#     team2 = Team(t1, field.field)\n",
    "\n",
    "\n",
    "#     Pros = []\n",
    "#     match = {\n",
    "#         team1.team_name: 0,\n",
    "#         team2.team_name: 0\n",
    "#     }\n",
    "\n",
    "#     def function_x():\n",
    "#         game = Football(team1, team2, field, 90)\n",
    "#         x = game.play()\n",
    "#         if x is not None:\n",
    "#             match[x.team_name] += 1\n",
    "     \n",
    "\n",
    "#     for i in range(10):\n",
    "#         function_x()\n",
    "    \n",
    "#     df.append({'Team1': team1.team_name, 'Team2': team2.team_name, 'Wins1': match[team1.team_name], 'Wins2': match[team2.team_name]}, ignore_index=True)\n",
    "#     print(df)\n",
    "\n"
   ]
  },
  {
   "cell_type": "code",
   "execution_count": 5,
   "metadata": {},
   "outputs": [],
   "source": [
    "# match"
   ]
  },
  {
   "cell_type": "code",
   "execution_count": null,
   "metadata": {},
   "outputs": [],
   "source": []
  },
  {
   "cell_type": "code",
   "execution_count": null,
   "metadata": {},
   "outputs": [],
   "source": []
  },
  {
   "cell_type": "code",
   "execution_count": null,
   "metadata": {},
   "outputs": [],
   "source": []
  },
  {
   "cell_type": "code",
   "execution_count": 6,
   "metadata": {},
   "outputs": [],
   "source": [
    "# df"
   ]
  },
  {
   "cell_type": "code",
   "execution_count": 7,
   "metadata": {},
   "outputs": [],
   "source": [
    "\n",
    "# matches = [(\"brazil\", \"serbia\"),(\"brazil\", 'switzerland'),('brazil', 'cameroon'),('serbia', \"switzerland\"),('serbia', \"cameroon\"),(\"switzerland\", \"cameroon\")]\n",
    "# df = pd.DataFrame(columns=['Team1', 'Team2','Wins1', \"Wins2\"])\n",
    "\n",
    "# for t1,t2 in matches:\n",
    "#     team1 = Team(t2, field.field)\n",
    "#     team2 = Team(t1, field.field)\n",
    "\n",
    "\n",
    "#     Pros = []\n",
    "#     match = {\n",
    "#         team1.team_name: 0,\n",
    "#         team2.team_name: 0\n",
    "#     }\n",
    "\n",
    "#     def function_x():\n",
    "#         game = Football(team1, team2, field, 90)\n",
    "#         x = game.play()\n",
    "#         if x is not None:\n",
    "#             match[x.team_name] += 1\n",
    "     \n",
    "\n",
    "#     for i in range(10):\n",
    "#         function_x()\n",
    "    \n",
    "#     df.append({'Team1': team1.team_name, 'Team2': team2.team_name, 'Wins1': match[team1.team_name], 'Wins2': match[team2.team_name]}, ignore_index=True)\n",
    "#     print(df)\n",
    "\n"
   ]
  },
  {
   "cell_type": "code",
   "execution_count": 8,
   "metadata": {},
   "outputs": [],
   "source": [
    "# df.dump_csv(\"group_g.csv\")"
   ]
  }
 ],
 "metadata": {
  "kernelspec": {
   "display_name": "Python 3.10.7 64-bit",
   "language": "python",
   "name": "python3"
  },
  "language_info": {
   "codemirror_mode": {
    "name": "ipython",
    "version": 3
   },
   "file_extension": ".py",
   "mimetype": "text/x-python",
   "name": "python",
   "nbconvert_exporter": "python",
   "pygments_lexer": "ipython3",
   "version": "3.10.7"
  },
  "orig_nbformat": 4,
  "vscode": {
   "interpreter": {
    "hash": "aee8b7b246df8f9039afb4144a1f6fd8d2ca17a180786b69acc140d282b71a49"
   }
  }
 },
 "nbformat": 4,
 "nbformat_minor": 2
}
