{
 "cells": [
  {
   "cell_type": "code",
   "execution_count": 1,
   "metadata": {},
   "outputs": [],
   "source": [
    "\n",
    "\n",
    "\n",
    "from planning.football import football_model\n",
    "from planning.search import breadth_first_tree_search\n",
    "from planning.planning import ForwardPlan\n",
    "from team import Team\n",
    "from game import Football\n",
    "from field import Field\n",
    "from team import Team\n",
    "zones = [\n",
    "    \"Defense Left\",\n",
    "    \"Defense Center\",\n",
    "    \"Defense Right\",\n",
    "\n",
    "    \"Midfield Left\",\n",
    "    \"Midfield Center\",\n",
    "    \"Midfield Right\",\n",
    "\n",
    "    \"Attack Left\",\n",
    "    \"Attack Center\",\n",
    "    \"Attack Right\"\n",
    "]\n",
    "field = Field(\"f1\", 3,3,zones)"
   ]
  },
  {
   "cell_type": "code",
   "execution_count": 2,
   "metadata": {},
   "outputs": [],
   "source": [
    "team1 = Team('portugal', field.field)\n",
    "team2 = Team('senegal', field.field)\n",
    "\n",
    "game = Football(team1, team2, field, 90)\n"
   ]
  },
  {
   "cell_type": "code",
   "execution_count": 3,
   "metadata": {},
   "outputs": [
    {
     "name": "stdout",
     "output_type": "stream",
     "text": [
      "Start Game\n"
     ]
    },
    {
     "ename": "AttributeError",
     "evalue": "'Football' object has no attribute 'move_player'",
     "output_type": "error",
     "traceback": [
      "\u001b[0;31m---------------------------------------------------------------------------\u001b[0m",
      "\u001b[0;31mAttributeError\u001b[0m                            Traceback (most recent call last)",
      "Cell \u001b[0;32mIn [3], line 1\u001b[0m\n\u001b[0;32m----> 1\u001b[0m x \u001b[38;5;241m=\u001b[39m \u001b[43mgame\u001b[49m\u001b[38;5;241;43m.\u001b[39;49m\u001b[43mplay\u001b[49m\u001b[43m(\u001b[49m\u001b[43m)\u001b[49m\n",
      "File \u001b[0;32m~/Documents/3er Anno/IA-Simulacion/FIFA_World_Cup_2022/game.py:36\u001b[0m, in \u001b[0;36mFootball.play\u001b[0;34m(self)\u001b[0m\n\u001b[1;32m     34\u001b[0m team_with_posecionball \u001b[39m=\u001b[39m \u001b[39mself\u001b[39m\u001b[39m.\u001b[39mselect_initial_team_with_ball()\n\u001b[1;32m     35\u001b[0m player_with_ballposition \u001b[39m=\u001b[39m \u001b[39mself\u001b[39m\u001b[39m.\u001b[39mselect_initial_player_with_ball(team_with_posecionball)\n\u001b[0;32m---> 36\u001b[0m \u001b[39mself\u001b[39;49m\u001b[39m.\u001b[39;49minitialize_attakers_positions(\u001b[39mself\u001b[39;49m\u001b[39m.\u001b[39;49mteam1 , \u001b[39mself\u001b[39;49m\u001b[39m.\u001b[39;49mteam2)\n\u001b[1;32m     37\u001b[0m \u001b[39mprint\u001b[39m(\u001b[39m'\u001b[39m\u001b[39mInitialization Complete\u001b[39m\u001b[39m'\u001b[39m)\n\u001b[1;32m     38\u001b[0m \u001b[39mfor\u001b[39;00m i \u001b[39min\u001b[39;00m \u001b[39mrange\u001b[39m(\u001b[39mself\u001b[39m\u001b[39m.\u001b[39mtime):\n",
      "File \u001b[0;32m~/Documents/3er Anno/IA-Simulacion/FIFA_World_Cup_2022/game.py:211\u001b[0m, in \u001b[0;36mFootball.initialize_attakers_positions\u001b[0;34m(self, firstTeam, secondTeam)\u001b[0m\n\u001b[1;32m    209\u001b[0m \u001b[39mfor\u001b[39;00m i \u001b[39min\u001b[39;00m \u001b[39mrange\u001b[39m(\u001b[39mlen\u001b[39m(firstTeam\u001b[39m.\u001b[39mplayers)):\n\u001b[1;32m    210\u001b[0m     \u001b[39mif\u001b[39;00m firstTeam\u001b[39m.\u001b[39mplayers[i]\u001b[39m.\u001b[39mrole \u001b[39m==\u001b[39m \u001b[39m'\u001b[39m\u001b[39mF\u001b[39m\u001b[39m'\u001b[39m:\n\u001b[0;32m--> 211\u001b[0m         \u001b[39mself\u001b[39;49m\u001b[39m.\u001b[39;49mmove_player(firstTeam\u001b[39m.\u001b[39mplayers[i]\u001b[39m.\u001b[39mposition\u001b[39m.\u001b[39mrow\u001b[39m-\u001b[39m\u001b[39m1\u001b[39m,firstTeam\u001b[39m.\u001b[39mplayers[i]\u001b[39m.\u001b[39mposition\u001b[39m.\u001b[39mcolumn,firstTeam\u001b[39m.\u001b[39mplayers[i],firstTeam\u001b[39m.\u001b[39mfield\u001b[39m.\u001b[39mzones)\n\u001b[1;32m    212\u001b[0m         \u001b[39m# firstTeam.players[i] = firstTeam.players[i].current_position.row - 1 \u001b[39;00m\n\u001b[1;32m    214\u001b[0m     \u001b[39mif\u001b[39;00m secondTeam\u001b[39m.\u001b[39mplayers[i]\u001b[39m.\u001b[39mrole \u001b[39m==\u001b[39m \u001b[39m'\u001b[39m\u001b[39mF\u001b[39m\u001b[39m'\u001b[39m:\n",
      "\u001b[0;31mAttributeError\u001b[0m: 'Football' object has no attribute 'move_player'"
     ]
    }
   ],
   "source": [
    "x = game.play()"
   ]
  },
  {
   "cell_type": "code",
   "execution_count": null,
   "metadata": {},
   "outputs": [],
   "source": []
  }
 ],
 "metadata": {
  "kernelspec": {
   "display_name": "Python 3.10.7 64-bit",
   "language": "python",
   "name": "python3"
  },
  "language_info": {
   "codemirror_mode": {
    "name": "ipython",
    "version": 3
   },
   "file_extension": ".py",
   "mimetype": "text/x-python",
   "name": "python",
   "nbconvert_exporter": "python",
   "pygments_lexer": "ipython3",
   "version": "3.10.7"
  },
  "orig_nbformat": 4,
  "vscode": {
   "interpreter": {
    "hash": "916dbcbb3f70747c44a77c7bcd40155683ae19c65e1c03b4aa3499c5328201f1"
   }
  }
 },
 "nbformat": 4,
 "nbformat_minor": 2
}
