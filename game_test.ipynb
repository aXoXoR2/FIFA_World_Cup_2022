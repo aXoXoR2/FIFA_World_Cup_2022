{
 "cells": [
  {
   "cell_type": "code",
   "execution_count": 1,
   "metadata": {},
   "outputs": [],
   "source": [
    "\n",
    "\n",
    "\n",
    "from planning.football import football_model\n",
    "from planning.search import breadth_first_tree_search\n",
    "from planning.planning import ForwardPlan\n",
    "from team import Team\n",
    "from game import Football\n",
    "from field import Field\n",
    "from team import Team\n",
    "zones = [\n",
    "    \"Defense Left\",\n",
    "    \"Defense Center\",\n",
    "    \"Defense Right\",\n",
    "\n",
    "    \"Midfield Left\",\n",
    "    \"Midfield Center\",\n",
    "    \"Midfield Right\",\n",
    "\n",
    "    \"Attack Left\",\n",
    "    \"Attack Center\",\n",
    "    \"Attack Right\"\n",
    "]\n",
    "field = Field(\"f1\", 3,3,zones)"
   ]
  },
  {
   "cell_type": "code",
   "execution_count": 2,
   "metadata": {},
   "outputs": [],
   "source": [
    "team1 = Team('portugal', field.field)\n",
    "team2 = Team('senegal', field.field)\n",
    "\n",
    "game = Football(team1, team2, field, 90)\n"
   ]
  },
  {
   "cell_type": "code",
   "execution_count": 3,
   "metadata": {},
   "outputs": [
    {
     "name": "stdout",
     "output_type": "stream",
     "text": [
      "Start Game\n",
      "Initialization Complete\n",
      "action Pass(P, P1) <class 'planning.planning.Action'>\n",
      "action Pass(P, P1) <class 'planning.planning.Action'>\n"
     ]
    },
    {
     "ename": "AttributeError",
     "evalue": "'str' object has no attribute 'ballposition'",
     "output_type": "error",
     "traceback": [
      "\u001b[0;31m---------------------------------------------------------------------------\u001b[0m",
      "\u001b[0;31mAttributeError\u001b[0m                            Traceback (most recent call last)",
      "Cell \u001b[0;32mIn [3], line 1\u001b[0m\n\u001b[0;32m----> 1\u001b[0m x \u001b[38;5;241m=\u001b[39m \u001b[43mgame\u001b[49m\u001b[38;5;241;43m.\u001b[39;49m\u001b[43mplay\u001b[49m\u001b[43m(\u001b[49m\u001b[43m)\u001b[49m\n",
      "File \u001b[0;32m~/Documents/3er Anno/IA-Simulacion/FIFA_World_Cup_2022/game.py:51\u001b[0m, in \u001b[0;36mFootball.play\u001b[0;34m(self)\u001b[0m\n\u001b[1;32m     49\u001b[0m \u001b[39mprint\u001b[39m(\u001b[39m'\u001b[39m\u001b[39maction\u001b[39m\u001b[39m'\u001b[39m, action_of_player_with_ball, \u001b[39mtype\u001b[39m(action_of_player_with_ball))\n\u001b[1;32m     50\u001b[0m results \u001b[39m=\u001b[39m \u001b[39mself\u001b[39m\u001b[39m.\u001b[39mchoose_player_success((player_with_ballposition, action_of_player_with_ball), variables,actions_defenses, \u001b[39mself\u001b[39m\u001b[39m.\u001b[39mfield\u001b[39m.\u001b[39mcoords_to_zone)\n\u001b[0;32m---> 51\u001b[0m \u001b[39mself\u001b[39;49m\u001b[39m.\u001b[39;49mprocess_results(results)\n\u001b[1;32m     52\u001b[0m \u001b[39m# self.action_success(player_with_ballposition, solution.name,actions_defenses , player_success)\u001b[39;00m\n\u001b[1;32m     53\u001b[0m \u001b[39mprint\u001b[39m(\u001b[39m\"\u001b[39m\u001b[39mTime: \u001b[39m\u001b[39m\"\u001b[39m, i, end\u001b[39m=\u001b[39m\u001b[39m\"\u001b[39m\u001b[39m\\r\u001b[39;00m\u001b[39m\"\u001b[39m)\n",
      "File \u001b[0;32m~/Documents/3er Anno/IA-Simulacion/FIFA_World_Cup_2022/game.py:81\u001b[0m, in \u001b[0;36mFootball.process_results\u001b[0;34m(self, result)\u001b[0m\n\u001b[1;32m     79\u001b[0m \u001b[39mif\u001b[39;00m(result[\u001b[39m1\u001b[39m] \u001b[39m==\u001b[39m \u001b[39m'\u001b[39m\u001b[39mEntry\u001b[39m\u001b[39m'\u001b[39m):\n\u001b[1;32m     80\u001b[0m     actionsuccess \u001b[39m=\u001b[39m action\u001b[39m.\u001b[39mEntry(\u001b[39m'\u001b[39m\u001b[39mEntry\u001b[39m\u001b[39m'\u001b[39m)\n\u001b[0;32m---> 81\u001b[0m     actionsuccess\u001b[39m.\u001b[39;49mexecute(result[\u001b[39m1\u001b[39;49m])\n\u001b[1;32m     82\u001b[0m \u001b[39mif\u001b[39;00m(result[\u001b[39m1\u001b[39m] \u001b[39m==\u001b[39m \u001b[39m'\u001b[39m\u001b[39mDefend\u001b[39m\u001b[39m'\u001b[39m ):\n\u001b[1;32m     83\u001b[0m     actionsuccess \u001b[39m=\u001b[39m action\u001b[39m.\u001b[39mTackle(\u001b[39m'\u001b[39m\u001b[39mTackle\u001b[39m\u001b[39m'\u001b[39m)\n",
      "File \u001b[0;32m~/Documents/3er Anno/IA-Simulacion/FIFA_World_Cup_2022/action.py:75\u001b[0m, in \u001b[0;36mEntry.execute\u001b[0;34m(self, player)\u001b[0m\n\u001b[1;32m     74\u001b[0m \u001b[39mdef\u001b[39;00m \u001b[39mexecute\u001b[39m(\u001b[39mself\u001b[39m, player : Player):\n\u001b[0;32m---> 75\u001b[0m     player\u001b[39m.\u001b[39;49mballposition \u001b[39m=\u001b[39m \u001b[39mTrue\u001b[39;00m\n",
      "\u001b[0;31mAttributeError\u001b[0m: 'str' object has no attribute 'ballposition'"
     ]
    }
   ],
   "source": [
    "x = game.play()"
   ]
  },
  {
   "cell_type": "code",
   "execution_count": null,
   "metadata": {},
   "outputs": [],
   "source": []
  }
 ],
 "metadata": {
  "kernelspec": {
   "display_name": "Python 3.10.7 64-bit",
   "language": "python",
   "name": "python3"
  },
  "language_info": {
   "codemirror_mode": {
    "name": "ipython",
    "version": 3
   },
   "file_extension": ".py",
   "mimetype": "text/x-python",
   "name": "python",
   "nbconvert_exporter": "python",
   "pygments_lexer": "ipython3",
   "version": "3.10.7"
  },
  "orig_nbformat": 4,
  "vscode": {
   "interpreter": {
    "hash": "916dbcbb3f70747c44a77c7bcd40155683ae19c65e1c03b4aa3499c5328201f1"
   }
  }
 },
 "nbformat": 4,
 "nbformat_minor": 2
}
