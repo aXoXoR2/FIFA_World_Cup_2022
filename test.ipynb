{
 "cells": [
  {
   "cell_type": "code",
   "execution_count": 8,
   "metadata": {},
   "outputs": [],
   "source": [
    "from planning.football import football_model\n",
    "from planning.search import breadth_first_tree_search\n",
    "from planning.planning import ForwardPlan\n",
    "from team import Team\n",
    "\n",
    "from field import Field\n",
    "from team import Team\n",
    "zones = [\n",
    "    \"Defense Left\",\n",
    "    \"Defense Center\",\n",
    "    \"Defense Right\",\n",
    "\n",
    "    \"Midfield Left\",\n",
    "    \"Midfield Center\",\n",
    "    \"Midfield Right\",\n",
    "\n",
    "    \"Attack Left\",\n",
    "    \"Attack Center\",\n",
    "    \"Attack Right\"\n",
    "]\n",
    "field = Field(\"f1\", 3,3,zones)\n"
   ]
  },
  {
   "cell_type": "code",
   "execution_count": 9,
   "metadata": {},
   "outputs": [
    {
     "name": "stdout",
     "output_type": "stream",
     "text": [
      "{'P': <player.Player object at 0x7fa7bb5c8070>, 'P1': <player.Player object at 0x7fa7c01364f0>, 'P2': <player.Player object at 0x7fa7bb5c8550>, 'P3': <player.Player object at 0x7fa7bb5c8700>, 'P4': <player.Player object at 0x7fa7bb5c8640>, 'P5': <player.Player object at 0x7fa7bb5c8fd0>, 'P6': <player.Player object at 0x7fa7bb5c87f0>, 'P7': <player.Player object at 0x7fa7bb5c8a00>, 'P8': <player.Player object at 0x7fa7bb5c8190>, 'P9': <player.Player object at 0x7fa7c02c1550>}\n",
      "5\n",
      "4\n",
      "[<Node (PlayerInTeam(P, T) & PlayerInTeam(P1, T) & PlayerInTeam(P2, T) & PlayerInTeam(P3, T) & PlayerInTeam(P4, T) & PlayerInTeam(P5, T) & PlayerInTeam(P6, T) & PlayerInTeam(P2, T) & PlayerInTeam(P7, T) & PlayerInTeam(P8, T) & PlayerInTeam(P9, T) & PlayerInTeam(P10, T) & Player(P) & Team(T) & Player(P1) & Player(P2) & Player(P3) & Player(P4) & Player(P5) & Player(P6) & Player(P7) & Player(P8) & Player(P9) & Player(P10) & BallInGoal & NotBallPocesion(P))>]\n"
     ]
    }
   ],
   "source": [
    "team = Team('brazil', field.field)\n",
    "variables,problem = football_model(team, team.players[2])\n",
    "print(variables)\n",
    "sol= breadth_first_tree_search(ForwardPlan(problem))[0]"
   ]
  },
  {
   "cell_type": "code",
   "execution_count": 10,
   "metadata": {},
   "outputs": [
    {
     "data": {
      "text/plain": [
       "{'P': <player.Player at 0x7fa7bb5c8070>,\n",
       " 'P1': <player.Player at 0x7fa7c01364f0>,\n",
       " 'P2': <player.Player at 0x7fa7bb5c8550>,\n",
       " 'P3': <player.Player at 0x7fa7bb5c8700>,\n",
       " 'P4': <player.Player at 0x7fa7bb5c8640>,\n",
       " 'P5': <player.Player at 0x7fa7bb5c8fd0>,\n",
       " 'P6': <player.Player at 0x7fa7bb5c87f0>,\n",
       " 'P7': <player.Player at 0x7fa7bb5c8a00>,\n",
       " 'P8': <player.Player at 0x7fa7bb5c8190>,\n",
       " 'P9': <player.Player at 0x7fa7c02c1550>}"
      ]
     },
     "execution_count": 10,
     "metadata": {},
     "output_type": "execute_result"
    }
   ],
   "source": [
    "variables"
   ]
  },
  {
   "cell_type": "code",
   "execution_count": 11,
   "metadata": {},
   "outputs": [
    {
     "data": {
      "text/plain": [
       "0.660192"
      ]
     },
     "execution_count": 11,
     "metadata": {},
     "output_type": "execute_result"
    }
   ],
   "source": [
    "solution, prec = sol.solution(variables)\n",
    "prec"
   ]
  },
  {
   "cell_type": "code",
   "execution_count": 12,
   "metadata": {},
   "outputs": [
    {
     "data": {
      "text/plain": [
       "'Neymar Shoot'"
      ]
     },
     "execution_count": 12,
     "metadata": {},
     "output_type": "execute_result"
    }
   ],
   "source": [
    "message = f'{variables[str(solution.args[0])].name} {solution.name}'\n",
    "message"
   ]
  },
  {
   "cell_type": "code",
   "execution_count": 13,
   "metadata": {},
   "outputs": [
    {
     "data": {
      "text/plain": [
       "2"
      ]
     },
     "execution_count": 13,
     "metadata": {},
     "output_type": "execute_result"
    }
   ],
   "source": [
    "variables[str(solution.args[0])].position.row"
   ]
  },
  {
   "cell_type": "code",
   "execution_count": 15,
   "metadata": {},
   "outputs": [
    {
     "data": {
      "text/plain": [
       "'Neymar'"
      ]
     },
     "execution_count": 15,
     "metadata": {},
     "output_type": "execute_result"
    }
   ],
   "source": [
    "team.players[2].name"
   ]
  },
  {
   "cell_type": "code",
   "execution_count": 14,
   "metadata": {},
   "outputs": [
    {
     "data": {
      "text/plain": [
       "[<player.Player at 0x7fa7bb5bf280>,\n",
       " <player.Player at 0x7fa7bb5bfd30>,\n",
       " <player.Player at 0x7fa7bb5bf190>,\n",
       " <player.Player at 0x7fa7bb5bf940>,\n",
       " <player.Player at 0x7fa7bb5bf070>,\n",
       " <player.Player at 0x7fa7bb5bfd60>,\n",
       " <player.Player at 0x7fa7bb5bf820>,\n",
       " <player.Player at 0x7fa7bb5bfe20>,\n",
       " <player.Player at 0x7fa7bb5bf970>,\n",
       " <player.Player at 0x7fa7bb5bf3a0>]"
      ]
     },
     "execution_count": 14,
     "metadata": {},
     "output_type": "execute_result"
    }
   ],
   "source": [
    "\n",
    "t1 = Team('brazil', field.field)\n",
    "t1.players"
   ]
  },
  {
   "cell_type": "code",
   "execution_count": null,
   "metadata": {},
   "outputs": [],
   "source": []
  }
 ],
 "metadata": {
  "kernelspec": {
   "display_name": "Python 3.9.7 ('base')",
   "language": "python",
   "name": "python3"
  },
  "language_info": {
   "codemirror_mode": {
    "name": "ipython",
    "version": 3
   },
   "file_extension": ".py",
   "mimetype": "text/x-python",
   "name": "python",
   "nbconvert_exporter": "python",
   "pygments_lexer": "ipython3",
   "version": "3.9.7"
  },
  "orig_nbformat": 4,
  "vscode": {
   "interpreter": {
    "hash": "588779d6ef7e6f81e2169a879779fc8e5995f47f76c0b461de7632fa84667fbc"
   }
  }
 },
 "nbformat": 4,
 "nbformat_minor": 2
}
