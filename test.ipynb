{
 "cells": [
  {
   "cell_type": "code",
   "execution_count": 1,
   "metadata": {},
   "outputs": [],
   "source": [
    "from planning.football import football_model\n",
    "from planning.search import breadth_first_tree_search\n",
    "from planning.planning import ForwardPlan\n",
    "from team import Team\n",
    "\n",
    "from field import Field\n",
    "from team import Team\n",
    "zones = [\n",
    "    \"Defense Left\",\n",
    "    \"Defense Center\",\n",
    "    \"Defense Right\",\n",
    "\n",
    "    \"Midfield Left\",\n",
    "    \"Midfield Center\",\n",
    "    \"Midfield Right\",\n",
    "\n",
    "    \"Attack Left\",\n",
    "    \"Attack Center\",\n",
    "    \"Attack Right\"\n",
    "]\n",
    "field = Field(\"f1\", 3,3,zones)\n"
   ]
  },
  {
   "cell_type": "code",
   "execution_count": 2,
   "metadata": {},
   "outputs": [
    {
     "name": "stdout",
     "output_type": "stream",
     "text": [
      "Alisson\n",
      "{'Alex-sandro': {'attack': '44', 'creativity': '56', 'defending': '66', 'position': 'D', 'tactical': '60', 'technical': '57'}, 'Alex-telles': {'attack': '50', 'creativity': '65', 'defending': '61', 'position': 'D', 'tactical': '46', 'technical': '54'}, 'Alisson': {'aerial': '79', 'anticipation': '78', 'ballDistribution': '88', 'position': 'G', 'saves': '81', 'tactical': '90'}, 'Antony': {'attack': '74', 'creativity': '66', 'defending': '36', 'position': 'M', 'tactical': '49', 'technical': '63'}, 'Arthur': {'attack': '54', 'creativity': '64', 'defending': '51', 'position': 'M', 'tactical': '54', 'technical': '70'}, 'Bremer': {'attack': '39', 'creativity': '41', 'defending': '89', 'position': 'D', 'tactical': '81', 'technical': '46'}, 'Bruno-guimaraes': {'attack': '63', 'creativity': '74', 'defending': '59', 'position': 'M', 'tactical': '70', 'technical': '69'}, 'Casemiro': {'attack': '60', 'creativity': '68', 'defending': '73', 'position': 'M', 'tactical': '74', 'technical': '65'}, 'Dani-alves': {'attack': '61', 'creativity': '78', 'defending': '50', 'position': 'D', 'tactical': '53', 'technical': '71'}, 'Danilo': {'attack': '45', 'creativity': '55', 'defending': '80', 'position': 'D', 'tactical': '74', 'technical': '55'}, 'Eder-militao': {'attack': '42', 'creativity': '47', 'defending': '84', 'position': 'D', 'tactical': '78', 'technical': '48'}, 'Ederson': {'aerial': '73', 'anticipation': '77', 'ballDistribution': '87', 'position': 'G', 'saves': '84', 'tactical': '84'}, 'Everton-ribeiro': {'attack': '60', 'creativity': '66', 'defending': '42', 'position': 'M', 'tactical': '48', 'technical': '64'}, 'Fabinho': {'attack': '50', 'creativity': '53', 'defending': '68', 'position': 'M', 'tactical': '70', 'technical': '56'}, 'Fred': {'attack': '57', 'creativity': '68', 'defending': '54', 'position': 'M', 'tactical': '54', 'technical': '60'}, 'Gabriel-jesus': {'attack': '82', 'creativity': '69', 'defending': '34', 'position': 'F', 'tactical': '66', 'technical': '69'}, 'Gabriel-martinelli': {'attack': '69', 'creativity': '72', 'defending': '29', 'position': 'M', 'tactical': '47', 'technical': '70'}, 'Lucas-paqueta': {'attack': '68', 'creativity': '68', 'defending': '38', 'position': 'M', 'tactical': '50', 'technical': '69'}, 'Marquinhos': {'attack': '39', 'creativity': '47', 'defending': '77', 'position': 'D', 'tactical': '74', 'technical': '52'}, 'Neymar': {'attack': '92', 'creativity': '92', 'defending': '19', 'position': 'F', 'tactical': '54', 'technical': '78'}, 'Pedro': {'attack': '78', 'creativity': '56', 'defending': '37', 'position': 'F', 'tactical': '66', 'technical': '54'}, 'Raphinha': {'attack': '75', 'creativity': '77', 'defending': '31', 'position': 'M', 'tactical': '48', 'technical': '62'}, 'Renan-lodi': {'attack': '48', 'creativity': '54', 'defending': '54', 'position': 'D', 'tactical': '40', 'technical': '56'}, 'Richarlison': {'attack': '75', 'creativity': '59', 'defending': '26', 'position': 'F', 'tactical': '45', 'technical': '55'}, 'Rodrygo': {'attack': '81', 'creativity': '69', 'defending': '38', 'position': 'F', 'tactical': '61', 'technical': '64'}, 'Thiago-silva': {'attack': '40', 'creativity': '51', 'defending': '91', 'position': 'D', 'tactical': '90', 'technical': '56'}, 'Vinicius-junior': {'attack': '82', 'creativity': '75', 'defending': '29', 'position': 'F', 'tactical': '54', 'technical': '62'}, 'Weverton': {'aerial': '71', 'anticipation': '58', 'ballDistribution': '67', 'position': 'G', 'saves': '70', 'tactical': '73'}}\n"
     ]
    }
   ],
   "source": [
    "team = Team('brazil', field.field)\n",
    "team.set_active_players([player.name for player in team.players[0:11]])\n",
    "variables,problem = football_model(team, team.players[2])\n",
    "sol= breadth_first_tree_search(ForwardPlan(problem))[0]"
   ]
  },
  {
   "cell_type": "code",
   "execution_count": null,
   "metadata": {},
   "outputs": [
    {
     "data": {
      "text/plain": [
       "{'P': <player.Player at 0x7f33f0dd7370>,\n",
       " 'P1': <player.Player at 0x7f33f19ecee0>,\n",
       " 'P2': <player.Player at 0x7f33f0dd7160>,\n",
       " 'P3': <player.Player at 0x7f33f0dd75e0>,\n",
       " 'P4': <player.Player at 0x7f33f0dd7a60>,\n",
       " 'P5': <player.Player at 0x7f33f0dd73a0>,\n",
       " 'P6': <player.Player at 0x7f33f0dd7490>,\n",
       " 'P7': <player.Player at 0x7f33f0dd7be0>,\n",
       " 'P8': <player.Player at 0x7f33f0dd0340>,\n",
       " 'P9': <player.Player at 0x7f33f0dd0670>,\n",
       " 'P10': <player.Player at 0x7f33f0dd0eb0>}"
      ]
     },
     "execution_count": 9,
     "metadata": {},
     "output_type": "execute_result"
    }
   ],
   "source": [
    "variables"
   ]
  },
  {
   "cell_type": "code",
   "execution_count": null,
   "metadata": {},
   "outputs": [
    {
     "data": {
      "text/plain": [
       "0.10192000000000001"
      ]
     },
     "execution_count": 10,
     "metadata": {},
     "output_type": "execute_result"
    }
   ],
   "source": [
    "solution, prec = sol.solution(variables)\n",
    "prec"
   ]
  },
  {
   "cell_type": "code",
   "execution_count": null,
   "metadata": {},
   "outputs": [
    {
     "data": {
      "text/plain": [
       "'Aymeric-laporte Shoot'"
      ]
     },
     "execution_count": 11,
     "metadata": {},
     "output_type": "execute_result"
    }
   ],
   "source": [
    "message = f'{variables[str(solution.args[0])].name} {solution.name}'\n",
    "message"
   ]
  },
  {
   "cell_type": "code",
   "execution_count": null,
   "metadata": {},
   "outputs": [
    {
     "ename": "NameError",
     "evalue": "name 'variables' is not defined",
     "output_type": "error",
     "traceback": [
      "\u001b[0;31m---------------------------------------------------------------------------\u001b[0m",
      "\u001b[0;31mNameError\u001b[0m                                 Traceback (most recent call last)",
      "\u001b[0;32m/tmp/ipykernel_25813/1114422440.py\u001b[0m in \u001b[0;36m<module>\u001b[0;34m\u001b[0m\n\u001b[0;32m----> 1\u001b[0;31m \u001b[0mvariables\u001b[0m\u001b[0;34m[\u001b[0m\u001b[0mstr\u001b[0m\u001b[0;34m(\u001b[0m\u001b[0msolution\u001b[0m\u001b[0;34m.\u001b[0m\u001b[0margs\u001b[0m\u001b[0;34m[\u001b[0m\u001b[0;36m0\u001b[0m\u001b[0;34m]\u001b[0m\u001b[0;34m)\u001b[0m\u001b[0;34m]\u001b[0m\u001b[0;34m.\u001b[0m\u001b[0mposition\u001b[0m\u001b[0;34m.\u001b[0m\u001b[0mrow\u001b[0m\u001b[0;34m\u001b[0m\u001b[0;34m\u001b[0m\u001b[0m\n\u001b[0m",
      "\u001b[0;31mNameError\u001b[0m: name 'variables' is not defined"
     ]
    }
   ],
   "source": [
    "variables[str(solution.args[0])].position.row"
   ]
  },
  {
   "cell_type": "code",
   "execution_count": null,
   "metadata": {},
   "outputs": [
    {
     "data": {
      "text/plain": [
       "[<zone.Zone at 0x7f2fbc6b6190>,\n",
       " <zone.Zone at 0x7f2fa7b0dfd0>,\n",
       " <zone.Zone at 0x7f2fa7b0d100>,\n",
       " <zone.Zone at 0x7f2fbc6b6f10>,\n",
       " <zone.Zone at 0x7f2fa7b0dc70>,\n",
       " <zone.Zone at 0x7f2fa7b0d970>,\n",
       " <zone.Zone at 0x7f2fa7b0dcd0>,\n",
       " <zone.Zone at 0x7f2fa7b0d9a0>,\n",
       " <zone.Zone at 0x7f2fa7b0d460>]"
      ]
     },
     "execution_count": 4,
     "metadata": {},
     "output_type": "execute_result"
    }
   ],
   "source": []
  },
  {
   "cell_type": "code",
   "execution_count": null,
   "metadata": {},
   "outputs": [
    {
     "data": {
      "text/plain": [
       "[<player.Player at 0x7f2fcc430c40>,\n",
       " <player.Player at 0x7f2fcc430f70>,\n",
       " <player.Player at 0x7f2fbc728910>]"
      ]
     },
     "execution_count": 5,
     "metadata": {},
     "output_type": "execute_result"
    }
   ],
   "source": [
    "\n",
    "t1 = Team('brazil', field.field)\n",
    "t1.players"
   ]
  },
  {
   "cell_type": "code",
   "execution_count": null,
   "metadata": {},
   "outputs": [],
   "source": []
  }
 ],
 "metadata": {
  "kernelspec": {
   "display_name": "Python 3.9.7 ('base')",
   "language": "python",
   "name": "python3"
  },
  "language_info": {
   "codemirror_mode": {
    "name": "ipython",
    "version": 3
   },
   "file_extension": ".py",
   "mimetype": "text/x-python",
   "name": "python",
   "nbconvert_exporter": "python",
   "pygments_lexer": "ipython3",
   "version": "3.9.7"
  },
  "orig_nbformat": 4,
  "vscode": {
   "interpreter": {
    "hash": "588779d6ef7e6f81e2169a879779fc8e5995f47f76c0b461de7632fa84667fbc"
   }
  }
 },
 "nbformat": 4,
 "nbformat_minor": 2
}
