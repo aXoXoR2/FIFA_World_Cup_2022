{
 "cells": [
  {
   "cell_type": "code",
   "execution_count": 1,
   "metadata": {},
   "outputs": [],
   "source": [
    "from planning.football import football_model\n",
    "from planning.search import breadth_first_tree_search\n",
    "from planning.planning import ForwardPlan\n",
    "from team import Team"
   ]
  },
  {
   "cell_type": "code",
   "execution_count": 2,
   "metadata": {},
   "outputs": [
    {
     "name": "stdout",
     "output_type": "stream",
     "text": [
      "[<Node (PlayerInTeam(P, T) & PlayerInTeam(P1, T) & PlayerInTeam(P2, T) & PlayerInTeam(P3, T) & PlayerInTeam(P4, T) & PlayerInTeam(P5, T) & PlayerInTeam(P6, T) & PlayerInTeam(P2, T) & PlayerInTeam(P7, T) & PlayerInTeam(P8, T) & PlayerInTeam(P9, T) & PlayerInTeam(P10, T) & Player(P) & Team(T) & Player(P1) & Player(P2) & Player(P3) & Player(P4) & Player(P5) & Player(P6) & Player(P7) & Player(P8) & Player(P9) & Player(P10) & BallInGoal & NotBallPocesion(P))>]\n"
     ]
    }
   ],
   "source": [
    "team = Team('spain')\n",
    "team.set_active_players([player.name for player in team.players[0:11]])\n",
    "variables,problem = football_model(team, team.players[2])\n",
    "sol= breadth_first_tree_search(ForwardPlan(problem))[0]"
   ]
  },
  {
   "cell_type": "code",
   "execution_count": 3,
   "metadata": {},
   "outputs": [
    {
     "data": {
      "text/plain": [
       "{'P': <player.Player at 0x7f33f1859130>,\n",
       " 'P1': <player.Player at 0x7f33f19ecd60>,\n",
       " 'P2': <player.Player at 0x7f33f19ec160>,\n",
       " 'P3': <player.Player at 0x7f33f0f7edc0>,\n",
       " 'P4': <player.Player at 0x7f33f0f7ed30>,\n",
       " 'P5': <player.Player at 0x7f33f0f7e8b0>,\n",
       " 'P6': <player.Player at 0x7f33f0f7e700>,\n",
       " 'P7': <player.Player at 0x7f33f0f7ebe0>,\n",
       " 'P8': <player.Player at 0x7f33f0f7ec70>,\n",
       " 'P9': <player.Player at 0x7f33f0f7efd0>,\n",
       " 'P10': <player.Player at 0x7f33f0f7eee0>}"
      ]
     },
     "execution_count": 3,
     "metadata": {},
     "output_type": "execute_result"
    }
   ],
   "source": [
    "variables"
   ]
  },
  {
   "cell_type": "code",
   "execution_count": 4,
   "metadata": {},
   "outputs": [
    {
     "data": {
      "text/plain": [
       "0.10192000000000001"
      ]
     },
     "execution_count": 4,
     "metadata": {},
     "output_type": "execute_result"
    }
   ],
   "source": [
    "solution, prec = sol.solution(variables)\n",
    "prec"
   ]
  },
  {
   "cell_type": "code",
   "execution_count": 5,
   "metadata": {},
   "outputs": [
    {
     "data": {
      "text/plain": [
       "'Aymeric-laporte Shoot'"
      ]
     },
     "execution_count": 5,
     "metadata": {},
     "output_type": "execute_result"
    }
   ],
   "source": [
    "message = f'{variables[str(solution.args[0])].name} {solution.name}'\n",
    "message"
   ]
  },
  {
   "cell_type": "code",
   "execution_count": 6,
   "metadata": {},
   "outputs": [
    {
     "data": {
      "text/plain": [
       "2"
      ]
     },
     "execution_count": 6,
     "metadata": {},
     "output_type": "execute_result"
    }
   ],
   "source": [
    "variables[str(solution.args[0])].position.row"
   ]
  },
  {
   "cell_type": "code",
   "execution_count": null,
   "metadata": {},
   "outputs": [],
   "source": []
  }
 ],
 "metadata": {
  "kernelspec": {
   "display_name": "Python 3.9.7 ('base')",
   "language": "python",
   "name": "python3"
  },
  "language_info": {
   "codemirror_mode": {
    "name": "ipython",
    "version": 3
   },
   "file_extension": ".py",
   "mimetype": "text/x-python",
   "name": "python",
   "nbconvert_exporter": "python",
   "pygments_lexer": "ipython3",
   "version": "3.9.7"
  },
  "orig_nbformat": 4,
  "vscode": {
   "interpreter": {
    "hash": "588779d6ef7e6f81e2169a879779fc8e5995f47f76c0b461de7632fa84667fbc"
   }
  }
 },
 "nbformat": 4,
 "nbformat_minor": 2
}
